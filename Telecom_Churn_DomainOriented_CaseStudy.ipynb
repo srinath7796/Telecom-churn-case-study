{
 "cells": [
  {
   "cell_type": "code",
   "execution_count": 3,
   "id": "2349458f",
   "metadata": {},
   "outputs": [],
   "source": [
    "#lib import\n",
    "import numpy as np \n",
    "import pandas as pd \n",
    "import matplotlib.pyplot as plt\n",
    "import seaborn as sns\n",
    "from sklearn.model_selection import GridSearchCV\n",
    "from sklearn.linear_model import LogisticRegression\n",
    "from sklearn import metrics\n",
    "from sklearn.model_selection import GridSearchCV\n",
    "from sklearn.model_selection import KFold\n",
    "from sklearn import preprocessing\n",
    "from sklearn.preprocessing import StandardScaler\n",
    "from sklearn.model_selection import train_test_split\n",
    "from sklearn.svm import SVC\n",
    "from sklearn import metrics\n",
    "from sklearn.feature_selection import RFE\n",
    "from sklearn.ensemble import RandomForestClassifier\n",
    "from sklearn.metrics import precision_score, recall_score\n",
    "from imblearn.over_sampling import SMOTE\n",
    "from sklearn.metrics import classification_report, confusion_matrix, accuracy_score\n",
    "import warnings\n",
    "warnings.filterwarnings('ignore')"
   ]
  },
  {
   "cell_type": "code",
   "execution_count": 4,
   "id": "0e34f0be",
   "metadata": {},
   "outputs": [
    {
     "ename": "FileNotFoundError",
     "evalue": "[Errno 2] No such file or directory: 'telecom_churn_data.csv'",
     "output_type": "error",
     "traceback": [
      "\u001b[1;31m---------------------------------------------------------------------------\u001b[0m",
      "\u001b[1;31mFileNotFoundError\u001b[0m                         Traceback (most recent call last)",
      "Cell \u001b[1;32mIn[4], line 2\u001b[0m\n\u001b[0;32m      1\u001b[0m \u001b[38;5;66;03m#import dataset\u001b[39;00m\n\u001b[1;32m----> 2\u001b[0m telecom_df \u001b[38;5;241m=\u001b[39m \u001b[43mpd\u001b[49m\u001b[38;5;241;43m.\u001b[39;49m\u001b[43mread_csv\u001b[49m\u001b[43m(\u001b[49m\u001b[38;5;124;43m\"\u001b[39;49m\u001b[38;5;124;43mtelecom_churn_data.csv\u001b[39;49m\u001b[38;5;124;43m\"\u001b[39;49m\u001b[43m)\u001b[49m\n\u001b[0;32m      3\u001b[0m telecom_df\u001b[38;5;241m.\u001b[39mhead()\n",
      "File \u001b[1;32mE:\\Anaconda\\lib\\site-packages\\pandas\\util\\_decorators.py:211\u001b[0m, in \u001b[0;36mdeprecate_kwarg.<locals>._deprecate_kwarg.<locals>.wrapper\u001b[1;34m(*args, **kwargs)\u001b[0m\n\u001b[0;32m    209\u001b[0m     \u001b[38;5;28;01melse\u001b[39;00m:\n\u001b[0;32m    210\u001b[0m         kwargs[new_arg_name] \u001b[38;5;241m=\u001b[39m new_arg_value\n\u001b[1;32m--> 211\u001b[0m \u001b[38;5;28;01mreturn\u001b[39;00m func(\u001b[38;5;241m*\u001b[39margs, \u001b[38;5;241m*\u001b[39m\u001b[38;5;241m*\u001b[39mkwargs)\n",
      "File \u001b[1;32mE:\\Anaconda\\lib\\site-packages\\pandas\\util\\_decorators.py:331\u001b[0m, in \u001b[0;36mdeprecate_nonkeyword_arguments.<locals>.decorate.<locals>.wrapper\u001b[1;34m(*args, **kwargs)\u001b[0m\n\u001b[0;32m    325\u001b[0m \u001b[38;5;28;01mif\u001b[39;00m \u001b[38;5;28mlen\u001b[39m(args) \u001b[38;5;241m>\u001b[39m num_allow_args:\n\u001b[0;32m    326\u001b[0m     warnings\u001b[38;5;241m.\u001b[39mwarn(\n\u001b[0;32m    327\u001b[0m         msg\u001b[38;5;241m.\u001b[39mformat(arguments\u001b[38;5;241m=\u001b[39m_format_argument_list(allow_args)),\n\u001b[0;32m    328\u001b[0m         \u001b[38;5;167;01mFutureWarning\u001b[39;00m,\n\u001b[0;32m    329\u001b[0m         stacklevel\u001b[38;5;241m=\u001b[39mfind_stack_level(),\n\u001b[0;32m    330\u001b[0m     )\n\u001b[1;32m--> 331\u001b[0m \u001b[38;5;28;01mreturn\u001b[39;00m func(\u001b[38;5;241m*\u001b[39margs, \u001b[38;5;241m*\u001b[39m\u001b[38;5;241m*\u001b[39mkwargs)\n",
      "File \u001b[1;32mE:\\Anaconda\\lib\\site-packages\\pandas\\io\\parsers\\readers.py:950\u001b[0m, in \u001b[0;36mread_csv\u001b[1;34m(filepath_or_buffer, sep, delimiter, header, names, index_col, usecols, squeeze, prefix, mangle_dupe_cols, dtype, engine, converters, true_values, false_values, skipinitialspace, skiprows, skipfooter, nrows, na_values, keep_default_na, na_filter, verbose, skip_blank_lines, parse_dates, infer_datetime_format, keep_date_col, date_parser, dayfirst, cache_dates, iterator, chunksize, compression, thousands, decimal, lineterminator, quotechar, quoting, doublequote, escapechar, comment, encoding, encoding_errors, dialect, error_bad_lines, warn_bad_lines, on_bad_lines, delim_whitespace, low_memory, memory_map, float_precision, storage_options)\u001b[0m\n\u001b[0;32m    935\u001b[0m kwds_defaults \u001b[38;5;241m=\u001b[39m _refine_defaults_read(\n\u001b[0;32m    936\u001b[0m     dialect,\n\u001b[0;32m    937\u001b[0m     delimiter,\n\u001b[1;32m   (...)\u001b[0m\n\u001b[0;32m    946\u001b[0m     defaults\u001b[38;5;241m=\u001b[39m{\u001b[38;5;124m\"\u001b[39m\u001b[38;5;124mdelimiter\u001b[39m\u001b[38;5;124m\"\u001b[39m: \u001b[38;5;124m\"\u001b[39m\u001b[38;5;124m,\u001b[39m\u001b[38;5;124m\"\u001b[39m},\n\u001b[0;32m    947\u001b[0m )\n\u001b[0;32m    948\u001b[0m kwds\u001b[38;5;241m.\u001b[39mupdate(kwds_defaults)\n\u001b[1;32m--> 950\u001b[0m \u001b[38;5;28;01mreturn\u001b[39;00m \u001b[43m_read\u001b[49m\u001b[43m(\u001b[49m\u001b[43mfilepath_or_buffer\u001b[49m\u001b[43m,\u001b[49m\u001b[43m \u001b[49m\u001b[43mkwds\u001b[49m\u001b[43m)\u001b[49m\n",
      "File \u001b[1;32mE:\\Anaconda\\lib\\site-packages\\pandas\\io\\parsers\\readers.py:605\u001b[0m, in \u001b[0;36m_read\u001b[1;34m(filepath_or_buffer, kwds)\u001b[0m\n\u001b[0;32m    602\u001b[0m _validate_names(kwds\u001b[38;5;241m.\u001b[39mget(\u001b[38;5;124m\"\u001b[39m\u001b[38;5;124mnames\u001b[39m\u001b[38;5;124m\"\u001b[39m, \u001b[38;5;28;01mNone\u001b[39;00m))\n\u001b[0;32m    604\u001b[0m \u001b[38;5;66;03m# Create the parser.\u001b[39;00m\n\u001b[1;32m--> 605\u001b[0m parser \u001b[38;5;241m=\u001b[39m TextFileReader(filepath_or_buffer, \u001b[38;5;241m*\u001b[39m\u001b[38;5;241m*\u001b[39mkwds)\n\u001b[0;32m    607\u001b[0m \u001b[38;5;28;01mif\u001b[39;00m chunksize \u001b[38;5;129;01mor\u001b[39;00m iterator:\n\u001b[0;32m    608\u001b[0m     \u001b[38;5;28;01mreturn\u001b[39;00m parser\n",
      "File \u001b[1;32mE:\\Anaconda\\lib\\site-packages\\pandas\\io\\parsers\\readers.py:1442\u001b[0m, in \u001b[0;36mTextFileReader.__init__\u001b[1;34m(self, f, engine, **kwds)\u001b[0m\n\u001b[0;32m   1439\u001b[0m     \u001b[38;5;28mself\u001b[39m\u001b[38;5;241m.\u001b[39moptions[\u001b[38;5;124m\"\u001b[39m\u001b[38;5;124mhas_index_names\u001b[39m\u001b[38;5;124m\"\u001b[39m] \u001b[38;5;241m=\u001b[39m kwds[\u001b[38;5;124m\"\u001b[39m\u001b[38;5;124mhas_index_names\u001b[39m\u001b[38;5;124m\"\u001b[39m]\n\u001b[0;32m   1441\u001b[0m \u001b[38;5;28mself\u001b[39m\u001b[38;5;241m.\u001b[39mhandles: IOHandles \u001b[38;5;241m|\u001b[39m \u001b[38;5;28;01mNone\u001b[39;00m \u001b[38;5;241m=\u001b[39m \u001b[38;5;28;01mNone\u001b[39;00m\n\u001b[1;32m-> 1442\u001b[0m \u001b[38;5;28mself\u001b[39m\u001b[38;5;241m.\u001b[39m_engine \u001b[38;5;241m=\u001b[39m \u001b[38;5;28;43mself\u001b[39;49m\u001b[38;5;241;43m.\u001b[39;49m\u001b[43m_make_engine\u001b[49m\u001b[43m(\u001b[49m\u001b[43mf\u001b[49m\u001b[43m,\u001b[49m\u001b[43m \u001b[49m\u001b[38;5;28;43mself\u001b[39;49m\u001b[38;5;241;43m.\u001b[39;49m\u001b[43mengine\u001b[49m\u001b[43m)\u001b[49m\n",
      "File \u001b[1;32mE:\\Anaconda\\lib\\site-packages\\pandas\\io\\parsers\\readers.py:1735\u001b[0m, in \u001b[0;36mTextFileReader._make_engine\u001b[1;34m(self, f, engine)\u001b[0m\n\u001b[0;32m   1733\u001b[0m     \u001b[38;5;28;01mif\u001b[39;00m \u001b[38;5;124m\"\u001b[39m\u001b[38;5;124mb\u001b[39m\u001b[38;5;124m\"\u001b[39m \u001b[38;5;129;01mnot\u001b[39;00m \u001b[38;5;129;01min\u001b[39;00m mode:\n\u001b[0;32m   1734\u001b[0m         mode \u001b[38;5;241m+\u001b[39m\u001b[38;5;241m=\u001b[39m \u001b[38;5;124m\"\u001b[39m\u001b[38;5;124mb\u001b[39m\u001b[38;5;124m\"\u001b[39m\n\u001b[1;32m-> 1735\u001b[0m \u001b[38;5;28mself\u001b[39m\u001b[38;5;241m.\u001b[39mhandles \u001b[38;5;241m=\u001b[39m \u001b[43mget_handle\u001b[49m\u001b[43m(\u001b[49m\n\u001b[0;32m   1736\u001b[0m \u001b[43m    \u001b[49m\u001b[43mf\u001b[49m\u001b[43m,\u001b[49m\n\u001b[0;32m   1737\u001b[0m \u001b[43m    \u001b[49m\u001b[43mmode\u001b[49m\u001b[43m,\u001b[49m\n\u001b[0;32m   1738\u001b[0m \u001b[43m    \u001b[49m\u001b[43mencoding\u001b[49m\u001b[38;5;241;43m=\u001b[39;49m\u001b[38;5;28;43mself\u001b[39;49m\u001b[38;5;241;43m.\u001b[39;49m\u001b[43moptions\u001b[49m\u001b[38;5;241;43m.\u001b[39;49m\u001b[43mget\u001b[49m\u001b[43m(\u001b[49m\u001b[38;5;124;43m\"\u001b[39;49m\u001b[38;5;124;43mencoding\u001b[39;49m\u001b[38;5;124;43m\"\u001b[39;49m\u001b[43m,\u001b[49m\u001b[43m \u001b[49m\u001b[38;5;28;43;01mNone\u001b[39;49;00m\u001b[43m)\u001b[49m\u001b[43m,\u001b[49m\n\u001b[0;32m   1739\u001b[0m \u001b[43m    \u001b[49m\u001b[43mcompression\u001b[49m\u001b[38;5;241;43m=\u001b[39;49m\u001b[38;5;28;43mself\u001b[39;49m\u001b[38;5;241;43m.\u001b[39;49m\u001b[43moptions\u001b[49m\u001b[38;5;241;43m.\u001b[39;49m\u001b[43mget\u001b[49m\u001b[43m(\u001b[49m\u001b[38;5;124;43m\"\u001b[39;49m\u001b[38;5;124;43mcompression\u001b[39;49m\u001b[38;5;124;43m\"\u001b[39;49m\u001b[43m,\u001b[49m\u001b[43m \u001b[49m\u001b[38;5;28;43;01mNone\u001b[39;49;00m\u001b[43m)\u001b[49m\u001b[43m,\u001b[49m\n\u001b[0;32m   1740\u001b[0m \u001b[43m    \u001b[49m\u001b[43mmemory_map\u001b[49m\u001b[38;5;241;43m=\u001b[39;49m\u001b[38;5;28;43mself\u001b[39;49m\u001b[38;5;241;43m.\u001b[39;49m\u001b[43moptions\u001b[49m\u001b[38;5;241;43m.\u001b[39;49m\u001b[43mget\u001b[49m\u001b[43m(\u001b[49m\u001b[38;5;124;43m\"\u001b[39;49m\u001b[38;5;124;43mmemory_map\u001b[39;49m\u001b[38;5;124;43m\"\u001b[39;49m\u001b[43m,\u001b[49m\u001b[43m \u001b[49m\u001b[38;5;28;43;01mFalse\u001b[39;49;00m\u001b[43m)\u001b[49m\u001b[43m,\u001b[49m\n\u001b[0;32m   1741\u001b[0m \u001b[43m    \u001b[49m\u001b[43mis_text\u001b[49m\u001b[38;5;241;43m=\u001b[39;49m\u001b[43mis_text\u001b[49m\u001b[43m,\u001b[49m\n\u001b[0;32m   1742\u001b[0m \u001b[43m    \u001b[49m\u001b[43merrors\u001b[49m\u001b[38;5;241;43m=\u001b[39;49m\u001b[38;5;28;43mself\u001b[39;49m\u001b[38;5;241;43m.\u001b[39;49m\u001b[43moptions\u001b[49m\u001b[38;5;241;43m.\u001b[39;49m\u001b[43mget\u001b[49m\u001b[43m(\u001b[49m\u001b[38;5;124;43m\"\u001b[39;49m\u001b[38;5;124;43mencoding_errors\u001b[39;49m\u001b[38;5;124;43m\"\u001b[39;49m\u001b[43m,\u001b[49m\u001b[43m \u001b[49m\u001b[38;5;124;43m\"\u001b[39;49m\u001b[38;5;124;43mstrict\u001b[39;49m\u001b[38;5;124;43m\"\u001b[39;49m\u001b[43m)\u001b[49m\u001b[43m,\u001b[49m\n\u001b[0;32m   1743\u001b[0m \u001b[43m    \u001b[49m\u001b[43mstorage_options\u001b[49m\u001b[38;5;241;43m=\u001b[39;49m\u001b[38;5;28;43mself\u001b[39;49m\u001b[38;5;241;43m.\u001b[39;49m\u001b[43moptions\u001b[49m\u001b[38;5;241;43m.\u001b[39;49m\u001b[43mget\u001b[49m\u001b[43m(\u001b[49m\u001b[38;5;124;43m\"\u001b[39;49m\u001b[38;5;124;43mstorage_options\u001b[39;49m\u001b[38;5;124;43m\"\u001b[39;49m\u001b[43m,\u001b[49m\u001b[43m \u001b[49m\u001b[38;5;28;43;01mNone\u001b[39;49;00m\u001b[43m)\u001b[49m\u001b[43m,\u001b[49m\n\u001b[0;32m   1744\u001b[0m \u001b[43m\u001b[49m\u001b[43m)\u001b[49m\n\u001b[0;32m   1745\u001b[0m \u001b[38;5;28;01massert\u001b[39;00m \u001b[38;5;28mself\u001b[39m\u001b[38;5;241m.\u001b[39mhandles \u001b[38;5;129;01mis\u001b[39;00m \u001b[38;5;129;01mnot\u001b[39;00m \u001b[38;5;28;01mNone\u001b[39;00m\n\u001b[0;32m   1746\u001b[0m f \u001b[38;5;241m=\u001b[39m \u001b[38;5;28mself\u001b[39m\u001b[38;5;241m.\u001b[39mhandles\u001b[38;5;241m.\u001b[39mhandle\n",
      "File \u001b[1;32mE:\\Anaconda\\lib\\site-packages\\pandas\\io\\common.py:856\u001b[0m, in \u001b[0;36mget_handle\u001b[1;34m(path_or_buf, mode, encoding, compression, memory_map, is_text, errors, storage_options)\u001b[0m\n\u001b[0;32m    851\u001b[0m \u001b[38;5;28;01melif\u001b[39;00m \u001b[38;5;28misinstance\u001b[39m(handle, \u001b[38;5;28mstr\u001b[39m):\n\u001b[0;32m    852\u001b[0m     \u001b[38;5;66;03m# Check whether the filename is to be opened in binary mode.\u001b[39;00m\n\u001b[0;32m    853\u001b[0m     \u001b[38;5;66;03m# Binary mode does not support 'encoding' and 'newline'.\u001b[39;00m\n\u001b[0;32m    854\u001b[0m     \u001b[38;5;28;01mif\u001b[39;00m ioargs\u001b[38;5;241m.\u001b[39mencoding \u001b[38;5;129;01mand\u001b[39;00m \u001b[38;5;124m\"\u001b[39m\u001b[38;5;124mb\u001b[39m\u001b[38;5;124m\"\u001b[39m \u001b[38;5;129;01mnot\u001b[39;00m \u001b[38;5;129;01min\u001b[39;00m ioargs\u001b[38;5;241m.\u001b[39mmode:\n\u001b[0;32m    855\u001b[0m         \u001b[38;5;66;03m# Encoding\u001b[39;00m\n\u001b[1;32m--> 856\u001b[0m         handle \u001b[38;5;241m=\u001b[39m \u001b[38;5;28;43mopen\u001b[39;49m\u001b[43m(\u001b[49m\n\u001b[0;32m    857\u001b[0m \u001b[43m            \u001b[49m\u001b[43mhandle\u001b[49m\u001b[43m,\u001b[49m\n\u001b[0;32m    858\u001b[0m \u001b[43m            \u001b[49m\u001b[43mioargs\u001b[49m\u001b[38;5;241;43m.\u001b[39;49m\u001b[43mmode\u001b[49m\u001b[43m,\u001b[49m\n\u001b[0;32m    859\u001b[0m \u001b[43m            \u001b[49m\u001b[43mencoding\u001b[49m\u001b[38;5;241;43m=\u001b[39;49m\u001b[43mioargs\u001b[49m\u001b[38;5;241;43m.\u001b[39;49m\u001b[43mencoding\u001b[49m\u001b[43m,\u001b[49m\n\u001b[0;32m    860\u001b[0m \u001b[43m            \u001b[49m\u001b[43merrors\u001b[49m\u001b[38;5;241;43m=\u001b[39;49m\u001b[43merrors\u001b[49m\u001b[43m,\u001b[49m\n\u001b[0;32m    861\u001b[0m \u001b[43m            \u001b[49m\u001b[43mnewline\u001b[49m\u001b[38;5;241;43m=\u001b[39;49m\u001b[38;5;124;43m\"\u001b[39;49m\u001b[38;5;124;43m\"\u001b[39;49m\u001b[43m,\u001b[49m\n\u001b[0;32m    862\u001b[0m \u001b[43m        \u001b[49m\u001b[43m)\u001b[49m\n\u001b[0;32m    863\u001b[0m     \u001b[38;5;28;01melse\u001b[39;00m:\n\u001b[0;32m    864\u001b[0m         \u001b[38;5;66;03m# Binary mode\u001b[39;00m\n\u001b[0;32m    865\u001b[0m         handle \u001b[38;5;241m=\u001b[39m \u001b[38;5;28mopen\u001b[39m(handle, ioargs\u001b[38;5;241m.\u001b[39mmode)\n",
      "\u001b[1;31mFileNotFoundError\u001b[0m: [Errno 2] No such file or directory: 'telecom_churn_data.csv'"
     ]
    }
   ],
   "source": [
    "#import dataset\n",
    "telecom_df = pd.read_csv(\"telecom_churn_data.csv\")\n",
    "telecom_df.head()"
   ]
  },
  {
   "cell_type": "code",
   "execution_count": null,
   "id": "f0f12f71",
   "metadata": {},
   "outputs": [],
   "source": [
    "telecom_df.info()"
   ]
  },
  {
   "cell_type": "code",
   "execution_count": null,
   "id": "1a9e0701",
   "metadata": {},
   "outputs": [],
   "source": [
    "telecom_df.shape"
   ]
  },
  {
   "cell_type": "code",
   "execution_count": null,
   "id": "b1ab7317",
   "metadata": {},
   "outputs": [],
   "source": [
    "# Filter High value Customers\n",
    "# High-value customers : Those who have recharged with an amount more than or equal to X, where X is the 70th percentile of average recharge amount in the first two months.\n",
    "\n",
    "# lets find out total amount spent by customers on data recharge,we have two colums available to find this out \n",
    "# First column is av_rech_amt_data_x (x represents month here, would be either 6 or 7 or 8)\n",
    "# Second column is total_rech_data_x (x represnts month here, would be either 6 or 7 or 8)\n",
    "# Lets introduce a new column total_rech_data_amt_x which can be calculated as av_rech_amt_data_x * total_rech_data_x"
   ]
  },
  {
   "cell_type": "code",
   "execution_count": null,
   "id": "d69f726d",
   "metadata": {},
   "outputs": [],
   "source": [
    "telecom_df['total_rech_data_amt_6'] = telecom_df['av_rech_amt_data_6'] * telecom_df['total_rech_data_6']\n",
    "telecom_df['total_rech_data_amt_7'] = telecom_df['av_rech_amt_data_7'] * telecom_df['total_rech_data_7']\n",
    "telecom_df['total_rech_data_amt_8'] = telecom_df['av_rech_amt_data_8'] * telecom_df['total_rech_data_8']\n",
    "telecom_df['total_rech_data_amt_9'] = telecom_df['av_rech_amt_data_9'] * telecom_df['total_rech_data_9']\n",
    "\n",
    "# We dont require columns av_rech_amt_data_x,total_rech_data_x (x = 6/7/8) so drop them:\n",
    "\n",
    "telecom_df.drop(['total_rech_data_6','total_rech_data_7','total_rech_data_8','total_rech_data_9',\n",
    "'av_rech_amt_data_6','av_rech_amt_data_7','av_rech_amt_data_8','av_rech_amt_data_9'],axis = 1,inplace = True)\n"
   ]
  },
  {
   "cell_type": "code",
   "execution_count": null,
   "id": "0277f9e4",
   "metadata": {},
   "outputs": [],
   "source": [
    "# Find the average recharge done in the first two months(June & July), the good phase\n",
    "# total amount spend would be the sum of total data recharge done & total call/sms recharges\n",
    "telecom_av_rech = (telecom_df['total_rech_amt_6'].fillna(0) \n",
    "+ telecom_df['total_rech_amt_7'].fillna(0) \n",
    "+ telecom_df['total_rech_data_amt_6'].fillna(0) \n",
    "+ telecom_df['total_rech_data_amt_7'].fillna(0))/2"
   ]
  },
  {
   "cell_type": "code",
   "execution_count": 5,
   "id": "a9a44175",
   "metadata": {},
   "outputs": [
    {
     "ename": "NameError",
     "evalue": "name 'telecom_av_rech' is not defined",
     "output_type": "error",
     "traceback": [
      "\u001b[1;31m---------------------------------------------------------------------------\u001b[0m",
      "\u001b[1;31mNameError\u001b[0m                                 Traceback (most recent call last)",
      "Cell \u001b[1;32mIn[5], line 2\u001b[0m\n\u001b[0;32m      1\u001b[0m \u001b[38;5;66;03m# 70 percentile of  calculated average amount\u001b[39;00m\n\u001b[1;32m----> 2\u001b[0m percentile_70 \u001b[38;5;241m=\u001b[39m np\u001b[38;5;241m.\u001b[39mpercentile(\u001b[43mtelecom_av_rech\u001b[49m, \u001b[38;5;241m70.0\u001b[39m)\n\u001b[0;32m      3\u001b[0m \u001b[38;5;28mprint\u001b[39m(\u001b[38;5;124m\"\u001b[39m\u001b[38;5;124m70 percentile : \u001b[39m\u001b[38;5;124m\"\u001b[39m, percentile_70)\n\u001b[0;32m      5\u001b[0m \u001b[38;5;66;03m# Fitler the data based on 70th percentile\u001b[39;00m\n",
      "\u001b[1;31mNameError\u001b[0m: name 'telecom_av_rech' is not defined"
     ]
    }
   ],
   "source": [
    "# 70 percentile of  calculated average amount\n",
    "percentile_70 = np.percentile(telecom_av_rech, 70.0)\n",
    "print(\"70 percentile : \", percentile_70)\n",
    "\n",
    "# Fitler the data based on 70th percentile\n",
    "telecom_hv_cust = telecom_df[telecom_av_rech >= percentile_70]\n",
    "\n",
    "print(\"Dimensions of filtered dataset:\",telecom_hv_cust.shape)"
   ]
  },
  {
   "cell_type": "code",
   "execution_count": null,
   "id": "4d471dff",
   "metadata": {},
   "outputs": [],
   "source": [
    "#Adding a new column \"churn\" with values 1 (churn) or 0 (non-churn) and calculate churn/non-churn:\n",
    "\n",
    "telecom_hv_cust['churn'] = np.where(telecom_hv_cust[['total_ic_mou_9','total_og_mou_9','vol_2g_mb_9','vol_3g_mb_9']].sum(axis=1) == 0, 1,0)\n",
    "telecom_hv_cust.head(10)"
   ]
  },
  {
   "cell_type": "code",
   "execution_count": 6,
   "id": "fc3a5327",
   "metadata": {},
   "outputs": [
    {
     "ename": "NameError",
     "evalue": "name 'telecom_hv_cust' is not defined",
     "output_type": "error",
     "traceback": [
      "\u001b[1;31m---------------------------------------------------------------------------\u001b[0m",
      "\u001b[1;31mNameError\u001b[0m                                 Traceback (most recent call last)",
      "Cell \u001b[1;32mIn[6], line 2\u001b[0m\n\u001b[0;32m      1\u001b[0m \u001b[38;5;66;03m#finding churn/non churn percentage\u001b[39;00m\n\u001b[1;32m----> 2\u001b[0m \u001b[43mtelecom_hv_cust\u001b[49m[\u001b[38;5;124m'\u001b[39m\u001b[38;5;124mchurn\u001b[39m\u001b[38;5;124m'\u001b[39m]\u001b[38;5;241m.\u001b[39mvalue_counts()\u001b[38;5;241m/\u001b[39m\u001b[38;5;28mlen\u001b[39m(telecom_hv_cust)\u001b[38;5;241m*\u001b[39m\u001b[38;5;241m100\u001b[39m\n",
      "\u001b[1;31mNameError\u001b[0m: name 'telecom_hv_cust' is not defined"
     ]
    }
   ],
   "source": [
    "#finding churn/non churn percentage\n",
    "telecom_hv_cust['churn'].value_counts()/len(telecom_hv_cust)*100"
   ]
  },
  {
   "cell_type": "code",
   "execution_count": 7,
   "id": "c02f60da",
   "metadata": {},
   "outputs": [],
   "source": [
    "#91.8 % of the customers do not churn, it might be class imbalance, we will treat that later in solution."
   ]
  },
  {
   "cell_type": "code",
   "execution_count": 8,
   "id": "b3e74a20",
   "metadata": {},
   "outputs": [
    {
     "ename": "NameError",
     "evalue": "name 'telecom_hv_cust' is not defined",
     "output_type": "error",
     "traceback": [
      "\u001b[1;31m---------------------------------------------------------------------------\u001b[0m",
      "\u001b[1;31mNameError\u001b[0m                                 Traceback (most recent call last)",
      "Cell \u001b[1;32mIn[8], line 2\u001b[0m\n\u001b[0;32m      1\u001b[0m \u001b[38;5;66;03m#check columns with no variance in their values and drop such columns\u001b[39;00m\n\u001b[1;32m----> 2\u001b[0m \u001b[38;5;28;01mfor\u001b[39;00m i \u001b[38;5;129;01min\u001b[39;00m \u001b[43mtelecom_hv_cust\u001b[49m\u001b[38;5;241m.\u001b[39mcolumns:\n\u001b[0;32m      3\u001b[0m     \u001b[38;5;28;01mif\u001b[39;00m telecom_hv_cust[i]\u001b[38;5;241m.\u001b[39mnunique() \u001b[38;5;241m==\u001b[39m \u001b[38;5;241m1\u001b[39m:\n\u001b[0;32m      4\u001b[0m         \u001b[38;5;28mprint\u001b[39m(\u001b[38;5;124m\"\u001b[39m\u001b[38;5;130;01m\\n\u001b[39;00m\u001b[38;5;124mColumn\u001b[39m\u001b[38;5;124m\"\u001b[39m,i,\u001b[38;5;124m\"\u001b[39m\u001b[38;5;124mno variance and contains only\u001b[39m\u001b[38;5;124m\"\u001b[39m, telecom_hv_cust[i]\u001b[38;5;241m.\u001b[39mnunique(),\u001b[38;5;124m\"\u001b[39m\u001b[38;5;124munique value\u001b[39m\u001b[38;5;124m\"\u001b[39m)\n",
      "\u001b[1;31mNameError\u001b[0m: name 'telecom_hv_cust' is not defined"
     ]
    }
   ],
   "source": [
    "#check columns with no variance in their values and drop such columns\n",
    "for i in telecom_hv_cust.columns:\n",
    "    if telecom_hv_cust[i].nunique() == 1:\n",
    "        print(\"\\nColumn\",i,\"no variance and contains only\", telecom_hv_cust[i].nunique(),\"unique value\")\n",
    "        print(\"Drop column\",i)\n",
    "        telecom_hv_cust.drop(i,axis=1,inplace = True)\n",
    "\n",
    "print(\"\\nDimensions of updated dataset:\",telecom_hv_cust.shape)"
   ]
  },
  {
   "cell_type": "code",
   "execution_count": null,
   "id": "f21b6e01",
   "metadata": {},
   "outputs": [],
   "source": [
    "#New dimensions are (30001,207)"
   ]
  },
  {
   "cell_type": "code",
   "execution_count": 9,
   "id": "d53534de",
   "metadata": {},
   "outputs": [
    {
     "ename": "NameError",
     "evalue": "name 'telecom_hv_cust' is not defined",
     "output_type": "error",
     "traceback": [
      "\u001b[1;31m---------------------------------------------------------------------------\u001b[0m",
      "\u001b[1;31mNameError\u001b[0m                                 Traceback (most recent call last)",
      "Cell \u001b[1;32mIn[9], line 2\u001b[0m\n\u001b[0;32m      1\u001b[0m \u001b[38;5;66;03m#check for null\u001b[39;00m\n\u001b[1;32m----> 2\u001b[0m (\u001b[43mtelecom_hv_cust\u001b[49m\u001b[38;5;241m.\u001b[39misnull()\u001b[38;5;241m.\u001b[39msum() \u001b[38;5;241m*\u001b[39m \u001b[38;5;241m100\u001b[39m \u001b[38;5;241m/\u001b[39m \u001b[38;5;28mlen\u001b[39m(telecom_hv_cust))\u001b[38;5;241m.\u001b[39msort_values(ascending \u001b[38;5;241m=\u001b[39m \u001b[38;5;28;01mFalse\u001b[39;00m)\n",
      "\u001b[1;31mNameError\u001b[0m: name 'telecom_hv_cust' is not defined"
     ]
    }
   ],
   "source": [
    "#check for null\n",
    "(telecom_hv_cust.isnull().sum() * 100 / len(telecom_hv_cust)).sort_values(ascending = False)"
   ]
  },
  {
   "cell_type": "code",
   "execution_count": null,
   "id": "cd60f039",
   "metadata": {},
   "outputs": [],
   "source": [
    "# Drop Columns with > 40% of missing values except 9th Month's columns\n",
    "cols = telecom_hv_cust.columns\n",
    "telecom_null = telecom_hv_cust.isnull().sum() * 100 / len(telecom_hv_cust)\n",
    "telecom_null_df = pd.DataFrame({'col_name': cols,'perc_null': telecom_null})\n",
    "\n",
    "drop_cols = telecom_null_df.loc[(telecom_null_df[\"col_name\"].str.contains('_9')==False) & (telecom_null_df[\"perc_null\"] > 40.0)][\"col_name\"]\n",
    "print(\"list of columns dropped:\",drop_cols)"
   ]
  },
  {
   "cell_type": "code",
   "execution_count": 10,
   "id": "bde89e14",
   "metadata": {},
   "outputs": [
    {
     "ename": "NameError",
     "evalue": "name 'telecom_hv_cust' is not defined",
     "output_type": "error",
     "traceback": [
      "\u001b[1;31m---------------------------------------------------------------------------\u001b[0m",
      "\u001b[1;31mNameError\u001b[0m                                 Traceback (most recent call last)",
      "Cell \u001b[1;32mIn[10], line 2\u001b[0m\n\u001b[0;32m      1\u001b[0m \u001b[38;5;66;03m# lets drop these columns\u001b[39;00m\n\u001b[1;32m----> 2\u001b[0m \u001b[43mtelecom_hv_cust\u001b[49m\u001b[38;5;241m.\u001b[39mdrop(drop_cols, axis\u001b[38;5;241m=\u001b[39m\u001b[38;5;241m1\u001b[39m,inplace \u001b[38;5;241m=\u001b[39m \u001b[38;5;28;01mTrue\u001b[39;00m)\n",
      "\u001b[1;31mNameError\u001b[0m: name 'telecom_hv_cust' is not defined"
     ]
    }
   ],
   "source": [
    "# lets drop these columns\n",
    "telecom_hv_cust.drop(drop_cols, axis=1,inplace = True)"
   ]
  },
  {
   "cell_type": "code",
   "execution_count": 11,
   "id": "f0de5774",
   "metadata": {},
   "outputs": [
    {
     "ename": "NameError",
     "evalue": "name 'telecom_hv_cust' is not defined",
     "output_type": "error",
     "traceback": [
      "\u001b[1;31m---------------------------------------------------------------------------\u001b[0m",
      "\u001b[1;31mNameError\u001b[0m                                 Traceback (most recent call last)",
      "Cell \u001b[1;32mIn[11], line 1\u001b[0m\n\u001b[1;32m----> 1\u001b[0m \u001b[43mtelecom_hv_cust\u001b[49m\u001b[38;5;241m.\u001b[39mshape\n",
      "\u001b[1;31mNameError\u001b[0m: name 'telecom_hv_cust' is not defined"
     ]
    }
   ],
   "source": [
    "telecom_hv_cust.shape"
   ]
  },
  {
   "cell_type": "code",
   "execution_count": null,
   "id": "858752ea",
   "metadata": {},
   "outputs": [],
   "source": [
    "#Cols dropped to 180 from 207\n",
    "#Columns that can be changed to integers, floats or date types\n",
    "object_col = telecom_hv_cust.select_dtypes(include=['object'])\n",
    "print(object_col.iloc[0])"
   ]
  },
  {
   "cell_type": "code",
   "execution_count": 12,
   "id": "4e51d700",
   "metadata": {},
   "outputs": [
    {
     "ename": "NameError",
     "evalue": "name 'object_col' is not defined",
     "output_type": "error",
     "traceback": [
      "\u001b[1;31m---------------------------------------------------------------------------\u001b[0m",
      "\u001b[1;31mNameError\u001b[0m                                 Traceback (most recent call last)",
      "Cell \u001b[1;32mIn[12], line 2\u001b[0m\n\u001b[0;32m      1\u001b[0m \u001b[38;5;66;03m#Convert to datetime\u001b[39;00m\n\u001b[1;32m----> 2\u001b[0m \u001b[38;5;28;01mfor\u001b[39;00m col \u001b[38;5;129;01min\u001b[39;00m \u001b[43mobject_col\u001b[49m\u001b[38;5;241m.\u001b[39mcolumns:\n\u001b[0;32m      3\u001b[0m     telecom_hv_cust[col] \u001b[38;5;241m=\u001b[39m pd\u001b[38;5;241m.\u001b[39mto_datetime(telecom_hv_cust[col])\n\u001b[0;32m      5\u001b[0m telecom_hv_cust\u001b[38;5;241m.\u001b[39mshape\n",
      "\u001b[1;31mNameError\u001b[0m: name 'object_col' is not defined"
     ]
    }
   ],
   "source": [
    "#Convert to datetime\n",
    "for col in object_col.columns:\n",
    "    telecom_hv_cust[col] = pd.to_datetime(telecom_hv_cust[col])\n",
    "\n",
    "telecom_hv_cust.shape"
   ]
  },
  {
   "cell_type": "code",
   "execution_count": null,
   "id": "0f962fa8",
   "metadata": {},
   "outputs": [],
   "source": [
    "#Checking correlation to drop the highly correlated features:\n",
    "corr = telecom_hv_cust.corr()\n",
    "corr.loc[:,:] = np.tril(corr, k=-1)\n",
    "corr = corr.stack()\n",
    "corr[(corr > 0.60) | (corr < -0.60)].sort_values()"
   ]
  },
  {
   "cell_type": "code",
   "execution_count": 13,
   "id": "07d19dc9",
   "metadata": {},
   "outputs": [],
   "source": [
    "# we will drop the columns with high correlation (+/- 60%)\n",
    "drop_col_list = ['loc_og_t2m_mou_6','std_og_t2t_mou_6','std_og_t2t_mou_7','std_og_t2t_mou_8','std_og_t2t_mou_9','std_og_t2m_mou_6',\n",
    "                'std_og_t2m_mou_7','std_og_t2m_mou_8','std_og_t2m_mou_9','total_og_mou_6','total_og_mou_7','total_og_mou_8',\n",
    "                'loc_ic_t2t_mou_6','loc_ic_t2t_mou_7','loc_ic_t2t_mou_8','loc_ic_t2t_mou_9','loc_ic_t2m_mou_6','loc_ic_t2m_mou_7','loc_ic_t2m_mou_8','loc_ic_t2m_mou_9',\n",
    "                'std_ic_t2m_mou_6','std_ic_t2m_mou_7','std_ic_t2m_mou_8','std_ic_t2m_mou_9','total_ic_mou_6','total_ic_mou_7','total_ic_mou_8','total_rech_amt_6','total_rech_amt_7','total_rech_amt_8','total_rech_amt_9','arpu_2g_9','count_rech_2g_9','count_rech_3g_9','vol_3g_mb_6','vol_3g_mb_7','vol_3g_mb_8',\n",
    "                'loc_og_t2t_mou_6','loc_og_t2t_mou_7','loc_og_t2t_mou_8','loc_og_t2t_mou_9','loc_og_t2f_mou_6','loc_og_t2f_mou_7','loc_og_t2f_mou_8','loc_og_t2f_mou_9',\n",
    "                'loc_og_t2m_mou_6','loc_og_t2m_mou_7','loc_og_t2m_mou_8','loc_og_t2m_mou_9','loc_ic_t2f_mou_6','loc_ic_t2f_mou_7','loc_ic_t2f_mou_8','loc_ic_t2f_mou_9',\n",
    "                'date_of_last_rech_6','date_of_last_rech_7','date_of_last_rech_8']"
   ]
  },
  {
   "cell_type": "code",
   "execution_count": 14,
   "id": "429e2a2b",
   "metadata": {},
   "outputs": [
    {
     "ename": "NameError",
     "evalue": "name 'telecom_hv_cust' is not defined",
     "output_type": "error",
     "traceback": [
      "\u001b[1;31m---------------------------------------------------------------------------\u001b[0m",
      "\u001b[1;31mNameError\u001b[0m                                 Traceback (most recent call last)",
      "Cell \u001b[1;32mIn[14], line 1\u001b[0m\n\u001b[1;32m----> 1\u001b[0m \u001b[43mtelecom_hv_cust\u001b[49m\u001b[38;5;241m.\u001b[39mdrop(drop_col_list, axis\u001b[38;5;241m=\u001b[39m\u001b[38;5;241m1\u001b[39m, inplace\u001b[38;5;241m=\u001b[39m\u001b[38;5;28;01mTrue\u001b[39;00m)\n\u001b[0;32m      2\u001b[0m telecom_hv_cust\u001b[38;5;241m.\u001b[39mshape\n",
      "\u001b[1;31mNameError\u001b[0m: name 'telecom_hv_cust' is not defined"
     ]
    }
   ],
   "source": [
    "telecom_hv_cust.drop(drop_col_list, axis=1, inplace=True)\n",
    "telecom_hv_cust.shape"
   ]
  },
  {
   "cell_type": "code",
   "execution_count": null,
   "id": "e5d33bdc",
   "metadata": {},
   "outputs": [],
   "source": [
    "#Deleting 9th month columns because churn/non-churn will be predicted later based on data from the 1st 3 months\n",
    "cols_to_drop = [col for col in telecom_hv_cust.columns if '_9' in col]\n",
    "print(cols_to_drop)"
   ]
  },
  {
   "cell_type": "code",
   "execution_count": 15,
   "id": "589e1a34",
   "metadata": {},
   "outputs": [
    {
     "ename": "NameError",
     "evalue": "name 'telecom_hv_cust' is not defined",
     "output_type": "error",
     "traceback": [
      "\u001b[1;31m---------------------------------------------------------------------------\u001b[0m",
      "\u001b[1;31mNameError\u001b[0m                                 Traceback (most recent call last)",
      "Cell \u001b[1;32mIn[15], line 1\u001b[0m\n\u001b[1;32m----> 1\u001b[0m \u001b[43mtelecom_hv_cust\u001b[49m\u001b[38;5;241m.\u001b[39mdrop(cols_to_drop, axis\u001b[38;5;241m=\u001b[39m\u001b[38;5;241m1\u001b[39m, inplace\u001b[38;5;241m=\u001b[39m\u001b[38;5;28;01mTrue\u001b[39;00m)\n\u001b[0;32m      2\u001b[0m telecom_hv_cust\u001b[38;5;241m.\u001b[39mshape\n",
      "\u001b[1;31mNameError\u001b[0m: name 'telecom_hv_cust' is not defined"
     ]
    }
   ],
   "source": [
    "telecom_hv_cust.drop(cols_to_drop, axis=1, inplace=True)\n",
    "telecom_hv_cust.shape"
   ]
  },
  {
   "cell_type": "code",
   "execution_count": null,
   "id": "0bece0c5",
   "metadata": {},
   "outputs": [],
   "source": [
    "#check for null again\n",
    "(telecom_hv_cust.isnull().sum() * 100 / len(telecom_hv_cust)).sort_values(ascending = False)"
   ]
  },
  {
   "cell_type": "code",
   "execution_count": 16,
   "id": "17e05a81",
   "metadata": {},
   "outputs": [
    {
     "ename": "NameError",
     "evalue": "name 'telecom_hv_cust' is not defined",
     "output_type": "error",
     "traceback": [
      "\u001b[1;31m---------------------------------------------------------------------------\u001b[0m",
      "\u001b[1;31mNameError\u001b[0m                                 Traceback (most recent call last)",
      "Cell \u001b[1;32mIn[16], line 2\u001b[0m\n\u001b[0;32m      1\u001b[0m \u001b[38;5;66;03m# Drop rows with null values\u001b[39;00m\n\u001b[1;32m----> 2\u001b[0m telecom_hv_cust \u001b[38;5;241m=\u001b[39m \u001b[43mtelecom_hv_cust\u001b[49m[\u001b[38;5;241m~\u001b[39mnp\u001b[38;5;241m.\u001b[39misnan(telecom_hv_cust[\u001b[38;5;124m'\u001b[39m\u001b[38;5;124monnet_mou_6\u001b[39m\u001b[38;5;124m'\u001b[39m])]\n\u001b[0;32m      3\u001b[0m telecom_hv_cust \u001b[38;5;241m=\u001b[39m telecom_hv_cust[\u001b[38;5;241m~\u001b[39mnp\u001b[38;5;241m.\u001b[39misnan(telecom_hv_cust[\u001b[38;5;124m'\u001b[39m\u001b[38;5;124monnet_mou_7\u001b[39m\u001b[38;5;124m'\u001b[39m])]\n\u001b[0;32m      4\u001b[0m telecom_hv_cust \u001b[38;5;241m=\u001b[39m telecom_hv_cust[\u001b[38;5;241m~\u001b[39mnp\u001b[38;5;241m.\u001b[39misnan(telecom_hv_cust[\u001b[38;5;124m'\u001b[39m\u001b[38;5;124monnet_mou_8\u001b[39m\u001b[38;5;124m'\u001b[39m])]\n",
      "\u001b[1;31mNameError\u001b[0m: name 'telecom_hv_cust' is not defined"
     ]
    }
   ],
   "source": [
    "# Drop rows with null values\n",
    "telecom_hv_cust = telecom_hv_cust[~np.isnan(telecom_hv_cust['onnet_mou_6'])]\n",
    "telecom_hv_cust = telecom_hv_cust[~np.isnan(telecom_hv_cust['onnet_mou_7'])]\n",
    "telecom_hv_cust = telecom_hv_cust[~np.isnan(telecom_hv_cust['onnet_mou_8'])]\n",
    "telecom_hv_cust = telecom_hv_cust[~np.isnan(telecom_hv_cust['offnet_mou_6'])]\n",
    "telecom_hv_cust = telecom_hv_cust[~np.isnan(telecom_hv_cust['offnet_mou_7'])]\n",
    "telecom_hv_cust = telecom_hv_cust[~np.isnan(telecom_hv_cust['offnet_mou_8'])]\n",
    "telecom_hv_cust = telecom_hv_cust[~np.isnan(telecom_hv_cust['roam_ic_mou_6'])]\n",
    "telecom_hv_cust = telecom_hv_cust[~np.isnan(telecom_hv_cust['roam_ic_mou_7'])]\n",
    "telecom_hv_cust = telecom_hv_cust[~np.isnan(telecom_hv_cust['roam_ic_mou_8'])]\n",
    "telecom_hv_cust = telecom_hv_cust[~np.isnan(telecom_hv_cust['roam_og_mou_6'])]\n",
    "telecom_hv_cust = telecom_hv_cust[~np.isnan(telecom_hv_cust['roam_og_mou_7'])]\n",
    "telecom_hv_cust = telecom_hv_cust[~np.isnan(telecom_hv_cust['roam_og_mou_8'])]\n",
    "telecom_hv_cust = telecom_hv_cust[~np.isnan(telecom_hv_cust['loc_og_t2c_mou_6'])]\n",
    "telecom_hv_cust = telecom_hv_cust[~np.isnan(telecom_hv_cust['loc_og_t2c_mou_7'])]\n",
    "telecom_hv_cust = telecom_hv_cust[~np.isnan(telecom_hv_cust['loc_og_t2c_mou_8'])]\n",
    "telecom_hv_cust = telecom_hv_cust[~np.isnan(telecom_hv_cust['loc_og_mou_6'])]\n",
    "telecom_hv_cust = telecom_hv_cust[~np.isnan(telecom_hv_cust['loc_og_mou_7'])]\n",
    "telecom_hv_cust = telecom_hv_cust[~np.isnan(telecom_hv_cust['loc_og_mou_8'])]\n",
    "telecom_hv_cust = telecom_hv_cust[~np.isnan(telecom_hv_cust['std_og_t2f_mou_6'])]\n",
    "telecom_hv_cust = telecom_hv_cust[~np.isnan(telecom_hv_cust['std_og_t2f_mou_7'])]\n",
    "telecom_hv_cust = telecom_hv_cust[~np.isnan(telecom_hv_cust['std_og_t2f_mou_8'])]\n",
    "telecom_hv_cust = telecom_hv_cust[~np.isnan(telecom_hv_cust['std_og_mou_6'])]\n",
    "telecom_hv_cust = telecom_hv_cust[~np.isnan(telecom_hv_cust['std_og_mou_7'])]\n",
    "telecom_hv_cust = telecom_hv_cust[~np.isnan(telecom_hv_cust['std_og_mou_8'])]\n",
    "telecom_hv_cust = telecom_hv_cust[~np.isnan(telecom_hv_cust['isd_og_mou_6'])]\n",
    "telecom_hv_cust = telecom_hv_cust[~np.isnan(telecom_hv_cust['isd_og_mou_7'])]\n",
    "telecom_hv_cust = telecom_hv_cust[~np.isnan(telecom_hv_cust['isd_og_mou_8'])]\n",
    "telecom_hv_cust = telecom_hv_cust[~np.isnan(telecom_hv_cust['spl_og_mou_6'])]\n",
    "telecom_hv_cust = telecom_hv_cust[~np.isnan(telecom_hv_cust['spl_og_mou_7'])]\n",
    "telecom_hv_cust = telecom_hv_cust[~np.isnan(telecom_hv_cust['spl_og_mou_8'])]\n",
    "telecom_hv_cust = telecom_hv_cust[~np.isnan(telecom_hv_cust['og_others_6'])]\n",
    "telecom_hv_cust = telecom_hv_cust[~np.isnan(telecom_hv_cust['og_others_7'])]\n",
    "telecom_hv_cust = telecom_hv_cust[~np.isnan(telecom_hv_cust['og_others_8'])]\n",
    "telecom_hv_cust = telecom_hv_cust[~np.isnan(telecom_hv_cust['loc_ic_mou_6'])]\n",
    "telecom_hv_cust = telecom_hv_cust[~np.isnan(telecom_hv_cust['loc_ic_mou_7'])]\n",
    "telecom_hv_cust = telecom_hv_cust[~np.isnan(telecom_hv_cust['loc_ic_mou_8'])]\n",
    "telecom_hv_cust = telecom_hv_cust[~np.isnan(telecom_hv_cust['std_ic_t2t_mou_6'])]\n",
    "telecom_hv_cust = telecom_hv_cust[~np.isnan(telecom_hv_cust['std_ic_t2t_mou_7'])]\n",
    "telecom_hv_cust = telecom_hv_cust[~np.isnan(telecom_hv_cust['std_ic_t2t_mou_8'])]\n",
    "telecom_hv_cust = telecom_hv_cust[~np.isnan(telecom_hv_cust['std_ic_t2f_mou_6'])]\n",
    "telecom_hv_cust = telecom_hv_cust[~np.isnan(telecom_hv_cust['std_ic_t2f_mou_7'])]\n",
    "telecom_hv_cust = telecom_hv_cust[~np.isnan(telecom_hv_cust['std_ic_t2f_mou_8'])]\n",
    "telecom_hv_cust = telecom_hv_cust[~np.isnan(telecom_hv_cust['std_ic_mou_6'])]\n",
    "telecom_hv_cust = telecom_hv_cust[~np.isnan(telecom_hv_cust['std_ic_mou_7'])]\n",
    "telecom_hv_cust = telecom_hv_cust[~np.isnan(telecom_hv_cust['std_ic_mou_8'])]\n",
    "telecom_hv_cust = telecom_hv_cust[~np.isnan(telecom_hv_cust['spl_ic_mou_6'])]\n",
    "telecom_hv_cust = telecom_hv_cust[~np.isnan(telecom_hv_cust['spl_ic_mou_7'])]\n",
    "telecom_hv_cust = telecom_hv_cust[~np.isnan(telecom_hv_cust['spl_ic_mou_8'])]\n",
    "telecom_hv_cust = telecom_hv_cust[~np.isnan(telecom_hv_cust['isd_ic_mou_6'])]\n",
    "telecom_hv_cust = telecom_hv_cust[~np.isnan(telecom_hv_cust['isd_ic_mou_7'])]\n",
    "telecom_hv_cust = telecom_hv_cust[~np.isnan(telecom_hv_cust['isd_ic_mou_8'])]\n",
    "telecom_hv_cust = telecom_hv_cust[~np.isnan(telecom_hv_cust['ic_others_6'])]\n",
    "telecom_hv_cust = telecom_hv_cust[~np.isnan(telecom_hv_cust['ic_others_7'])]\n",
    "telecom_hv_cust = telecom_hv_cust[~np.isnan(telecom_hv_cust['ic_others_8'])]"
   ]
  },
  {
   "cell_type": "code",
   "execution_count": null,
   "id": "ecaf71dd",
   "metadata": {},
   "outputs": [],
   "source": [
    "(telecom_hv_cust.isnull().sum() * 100 / len(telecom_hv_cust)).sort_values(ascending = False)\n",
    "#All null values handled"
   ]
  },
  {
   "cell_type": "code",
   "execution_count": null,
   "id": "634be3db",
   "metadata": {},
   "outputs": [],
   "source": [
    "# function to plot correlation matrix:"
   ]
  },
  {
   "cell_type": "code",
   "execution_count": null,
   "id": "5ab9d208",
   "metadata": {},
   "outputs": [],
   "source": [
    "def plotCorrMat(df, graphWidth):\n",
    "    filename = \"Telecom Churn\"\n",
    "    df = df.dropna('columns') # drop columns with NaN\n",
    "    df = df[[col for col in df if df[col].nunique() > 1]] # keep columns where there are more than 1 unique values\n",
    "    if df.shape[1] < 2:\n",
    "        print(f'No correlation plots shown: The number of non-NaN or constant columns ({df.shape[1]}) is less than 2')\n",
    "        return\n",
    "    corr = df.corr()\n",
    "    plt.figure(num=None, figsize=(graphWidth, graphWidth), dpi=80, facecolor='w', edgecolor='k')\n",
    "    corrMat = plt.matshow(corr, fignum = 1)\n",
    "    plt.xticks(range(len(corr.columns)), corr.columns, rotation=90)\n",
    "    plt.yticks(range(len(corr.columns)), corr.columns)\n",
    "    plt.gca().xaxis.tick_bottom()\n",
    "    plt.colorbar(corrMat)\n",
    "    plt.title(f'Correlation Matrix for {filename}', fontsize=15)\n",
    "    plt.show()"
   ]
  },
  {
   "cell_type": "code",
   "execution_count": null,
   "id": "e38ee513",
   "metadata": {},
   "outputs": [],
   "source": [
    "# function to plot scatter plots\n",
    "def plotScatterMatrix(df, plotSize, textSize):\n",
    "    df = df.select_dtypes(include =[np.number]) # keep only numerical columns\n",
    "    # Remove rows and columns that would lead to df being singular\n",
    "    df = df.dropna('columns')\n",
    "    columnNames = list(df)\n",
    "    if len(columnNames) > 10: # reduce the number of columns for matrix inversion of kernel density plots\n",
    "        columnNames = columnNames[:10]\n",
    "    df = df[columnNames]\n",
    "    ax = pd.plotting.scatter_matrix(df, alpha=0.75, figsize=[plotSize, plotSize], diagonal='kde')\n",
    "    corrs = df.corr().values\n",
    "    for i, j in zip(*plt.np.triu_indices_from(ax, k = 1)):\n",
    "         ax[i, j].annotate('Corr. coef = %.3f' % corrs[i, j], (0.8, 0.2), xycoords='axes fraction', ha='center', va='center', size=textSize)\n",
    "    plt.suptitle('Scatter and Density Plot')\n",
    "    plt.show()"
   ]
  },
  {
   "cell_type": "code",
   "execution_count": 17,
   "id": "5a6ef170",
   "metadata": {},
   "outputs": [],
   "source": [
    "# calling the function to plot the graphs"
   ]
  },
  {
   "cell_type": "code",
   "execution_count": 18,
   "id": "58a1ff7e",
   "metadata": {},
   "outputs": [
    {
     "ename": "NameError",
     "evalue": "name 'plotCorrMat' is not defined",
     "output_type": "error",
     "traceback": [
      "\u001b[1;31m---------------------------------------------------------------------------\u001b[0m",
      "\u001b[1;31mNameError\u001b[0m                                 Traceback (most recent call last)",
      "Cell \u001b[1;32mIn[18], line 1\u001b[0m\n\u001b[1;32m----> 1\u001b[0m \u001b[43mplotCorrMat\u001b[49m(telecom_hv_cust, \u001b[38;5;241m53\u001b[39m)\n",
      "\u001b[1;31mNameError\u001b[0m: name 'plotCorrMat' is not defined"
     ]
    }
   ],
   "source": [
    "plotCorrMat(telecom_hv_cust, 53)"
   ]
  },
  {
   "cell_type": "code",
   "execution_count": null,
   "id": "aebbb87c",
   "metadata": {},
   "outputs": [],
   "source": [
    "plotScatterMatrix(telecom_hv_cust, 20, 10)"
   ]
  },
  {
   "cell_type": "code",
   "execution_count": null,
   "id": "1cba602c",
   "metadata": {},
   "outputs": [],
   "source": [
    "#Derive some new feautres from the existing columns\n",
    "col_list = telecom_hv_cust.filter(regex='_6|_7').columns.str[:-2]\n",
    "col_list.unique()\n",
    "\n",
    "print (telecom_hv_cust.shape)\n",
    "\n",
    "# lets take the average now\n",
    "for idx, col in enumerate(col_list.unique()):\n",
    "    avg_col_name = \"avg_\"+col+\"_av67\" # lets create the column name dynamically\n",
    "    col_6 = col+\"_6\"\n",
    "    col_7 = col+\"_7\"\n",
    "    telecom_hv_cust[avg_col_name] = (telecom_hv_cust[col_6]  + telecom_hv_cust[col_7])/ 2\n",
    "# created a new colulmn, which would be average  of 6th & 7th months"
   ]
  },
  {
   "cell_type": "code",
   "execution_count": null,
   "id": "a8eccce2",
   "metadata": {},
   "outputs": [],
   "source": [
    "#columns to drop\n",
    "print (\"dimension of updated dataset after creating dervied features:\",telecom_hv_cust.shape)\n",
    "col_drop = telecom_hv_cust.filter(regex='_6|_7').columns\n",
    "telecom_hv_cust.drop(col_drop, axis=1, inplace=True)\n",
    "\n",
    "print(\"dimension of dataset after dropping un-necessary columns:\",telecom_hv_cust.shape)"
   ]
  },
  {
   "cell_type": "code",
   "execution_count": null,
   "id": "07b79915",
   "metadata": {},
   "outputs": [],
   "source": [
    "# conevrt AON in months\n",
    "telecom_hv_cust['aon_mon'] = telecom_hv_cust['aon']/30\n",
    "telecom_hv_cust.drop('aon', axis=1, inplace=True)\n",
    "telecom_hv_cust['aon_mon'].head()"
   ]
  },
  {
   "cell_type": "code",
   "execution_count": null,
   "id": "6f7bda8b",
   "metadata": {},
   "outputs": [],
   "source": [
    "plotCorrMat(telecom_hv_cust, 53)"
   ]
  },
  {
   "cell_type": "code",
   "execution_count": null,
   "id": "cdce6863",
   "metadata": {},
   "outputs": [],
   "source": [
    "plotScatterMatrix(telecom_hv_cust, 20, 10)"
   ]
  },
  {
   "cell_type": "code",
   "execution_count": null,
   "id": "75629a62",
   "metadata": {},
   "outputs": [],
   "source": [
    "ax = sns.distplot(telecom_hv_cust['aon_mon'], hist=True, kde=False, \n",
    "             bins=int(180/5), color = 'purple', \n",
    "             hist_kws={'edgecolor':'black'},\n",
    "             kde_kws={'linewidth': 10})\n",
    "ax.set_ylabel('No of Customers')\n",
    "ax.set_xlabel('Tenure in months')\n",
    "ax.set_title('Tenure Graph')\n",
    "# Graph showing the tenure of the customers"
   ]
  },
  {
   "cell_type": "code",
   "execution_count": null,
   "id": "7ef10746",
   "metadata": {},
   "outputs": [],
   "source": [
    "tn_range = [0, 6, 12, 24, 60, 61]\n",
    "tn_label = [ '0-6 Months', '6-12 Months', '1-2 Yrs', '2-5 Yrs', '5 Yrs and above']\n",
    "telecom_hv_cust['tenure_range'] = pd.cut(telecom_hv_cust['aon_mon'], tn_range, labels=tn_label)\n",
    "telecom_hv_cust['tenure_range'].head(10)"
   ]
  },
  {
   "cell_type": "code",
   "execution_count": null,
   "id": "48f31164",
   "metadata": {},
   "outputs": [],
   "source": [
    "#Checking correlation of churn with other columns\n",
    "plt.figure(figsize=(10,5))\n",
    "telecom_hv_cust.corr()['churn'].sort_values(ascending = False).plot(kind='bar')\n"
   ]
  },
  {
   "cell_type": "code",
   "execution_count": null,
   "id": "79f70086",
   "metadata": {},
   "outputs": [],
   "source": [
    "#  Avg Outgoing Calls & calls on romaning for 6 & 7th months are positively correlated with churn. \n",
    "#  Avg Revenue, No. Of Recharge for 8th month has negative correlation with churn."
   ]
  },
  {
   "cell_type": "code",
   "execution_count": null,
   "id": "6e96f215",
   "metadata": {},
   "outputs": [],
   "source": [
    "telecom_hv_cust[['total_rech_num_8', 'arpu_8']].plot.scatter(x = 'total_rech_num_8', y='arpu_8')\n",
    "#scatter plot between total recharge and avg revenue for the 8th month"
   ]
  },
  {
   "cell_type": "code",
   "execution_count": null,
   "id": "d44a6577",
   "metadata": {},
   "outputs": [],
   "source": [
    "telecom_hv_cust[['aon_mon', 'avg_arpu_av67']].plot.scatter(x = 'aon_mon', y='avg_arpu_av67')"
   ]
  },
  {
   "cell_type": "code",
   "execution_count": null,
   "id": "310b3f2e",
   "metadata": {},
   "outputs": [],
   "source": [
    "#Churn Vs other important features\n",
    "sns.boxplot(x = telecom_hv_cust.churn, y = telecom_hv_cust.aon_mon)"
   ]
  },
  {
   "cell_type": "code",
   "execution_count": null,
   "id": "9bef19c4",
   "metadata": {},
   "outputs": [],
   "source": [
    "# Tenured customers do no churn\n",
    "# churn Vs Base Cost\n",
    "ax = sns.kdeplot(telecom_hv_cust.avg_max_rech_amt_av67[(telecom_hv_cust[\"churn\"] == 0)],\n",
    "                color=\"Blue\", shade = True)\n",
    "ax = sns.kdeplot(telecom_hv_cust.avg_max_rech_amt_av67[(telecom_hv_cust[\"churn\"] == 1)],\n",
    "                ax =ax, color=\"Red\", shade= True)\n",
    "ax.legend([\"NoChurn\",\"Churn\"],loc='upper right')\n",
    "ax.set_ylabel('Density')\n",
    "ax.set_xlabel('Volume cost')\n",
    "ax.set_title('Churn Vs Base Cost')"
   ]
  },
  {
   "cell_type": "code",
   "execution_count": null,
   "id": "17b3abd0",
   "metadata": {},
   "outputs": [],
   "source": [
    "# churn vs max rechare amount\n",
    "ax = sns.kdeplot(telecom_hv_cust.max_rech_amt_8[(telecom_hv_cust[\"churn\"] == 0)],\n",
    "                color=\"Blue\", shade = True)\n",
    "ax = sns.kdeplot(telecom_hv_cust.max_rech_amt_8[(telecom_hv_cust[\"churn\"] == 1)],\n",
    "                ax =ax, color=\"Red\", shade= True)\n",
    "ax.legend([\"NoChurn\",\"Churn\"],loc='upper right')\n",
    "ax.set_ylabel('Density')\n",
    "ax.set_xlabel('Volume cost')\n",
    "ax.set_title('Distribution of Max Recharge Amount by churn')"
   ]
  },
  {
   "cell_type": "code",
   "execution_count": null,
   "id": "1209cd03",
   "metadata": {},
   "outputs": [],
   "source": [
    "# Creating new dataset for model building\n",
    "df = telecom_hv_cust[:].copy()\n",
    "\n",
    "# Drop tenure range because it is highly correlated with AON MONTH column\n",
    "df.drop('tenure_range', axis=1, inplace=True)\n",
    "df.drop('mobile_number', axis=1, inplace=True)\n",
    "df.head(10)"
   ]
  },
  {
   "cell_type": "code",
   "execution_count": null,
   "id": "10de1d1f",
   "metadata": {},
   "outputs": [],
   "source": [
    "# Creating X & y dataset for model building, X will not have \"churn\" and y will only have \"churn\"\n",
    "X = df.drop(['churn'], axis=1)\n",
    "y = df['churn']\n",
    "\n",
    "df.drop('churn', axis=1, inplace=True)"
   ]
  },
  {
   "cell_type": "code",
   "execution_count": null,
   "id": "ef11dcc9",
   "metadata": {},
   "outputs": [],
   "source": [
    "#scaling on the dataset\n",
    "\n",
    "scaler = preprocessing.StandardScaler().fit(X)\n",
    "X = scaler.transform(X)"
   ]
  },
  {
   "cell_type": "code",
   "execution_count": null,
   "id": "360933ba",
   "metadata": {},
   "outputs": [],
   "source": [
    "# Splitting dateset into train and test\"\n",
    "\n",
    "\n",
    "X_train, X_test, y_train, y_test = train_test_split(X, y, test_size=0.3, train_size=0.7, random_state=1)\n",
    "print(\"Dimension of X_train:\", X_train.shape)\n",
    "print(\"Dimension of X_test:\", X_test.shape)"
   ]
  },
  {
   "cell_type": "code",
   "execution_count": 29,
   "id": "fe5ce559",
   "metadata": {},
   "outputs": [
    {
     "name": "stdout",
     "output_type": "stream",
     "text": [
      "Requirement already satisfied: imbalanced-learn==0.6.0 in e:\\anaconda\\lib\\site-packages (0.6.0)\n",
      "Requirement already satisfied: scikit-learn>=0.22 in e:\\anaconda\\lib\\site-packages (from imbalanced-learn==0.6.0) (1.2.1)\n",
      "Requirement already satisfied: joblib>=0.11 in e:\\anaconda\\lib\\site-packages (from imbalanced-learn==0.6.0) (1.1.1)\n",
      "Requirement already satisfied: scipy>=0.17 in e:\\anaconda\\lib\\site-packages (from imbalanced-learn==0.6.0) (1.10.0)\n",
      "Requirement already satisfied: numpy>=1.11 in e:\\anaconda\\lib\\site-packages (from imbalanced-learn==0.6.0) (1.23.5)\n",
      "Requirement already satisfied: threadpoolctl>=2.0.0 in e:\\anaconda\\lib\\site-packages (from scikit-learn>=0.22->imbalanced-learn==0.6.0) (2.2.0)\n",
      "Collecting scikit-learn==0.22.1"
     ]
    },
    {
     "name": "stderr",
     "output_type": "stream",
     "text": [
      "  ERROR: Error [WinError 225] Operation did not complete successfully because the file contains a virus or potentially unwanted software while executing command python setup.py egg_info\n",
      "ERROR: Could not install packages due to an OSError: [WinError 225] Operation did not complete successfully because the file contains a virus or potentially unwanted software\n",
      "\n"
     ]
    },
    {
     "name": "stdout",
     "output_type": "stream",
     "text": [
      "\n",
      "  Using cached scikit-learn-0.22.1.tar.gz (6.9 MB)\n",
      "  Preparing metadata (setup.py): started\n",
      "  Preparing metadata (setup.py): finished with status 'error'\n"
     ]
    }
   ],
   "source": [
    "#Lets balance the dataset\n",
    "!pip install imbalanced-learn==0.6.0\n",
    "!pip install scikit-learn==0.22.1"
   ]
  },
  {
   "cell_type": "code",
   "execution_count": 30,
   "id": "fc5129b6",
   "metadata": {
    "scrolled": true
   },
   "outputs": [
    {
     "ename": "NameError",
     "evalue": "name 'X_train' is not defined",
     "output_type": "error",
     "traceback": [
      "\u001b[1;31m---------------------------------------------------------------------------\u001b[0m",
      "\u001b[1;31mNameError\u001b[0m                                 Traceback (most recent call last)",
      "Cell \u001b[1;32mIn[30], line 4\u001b[0m\n\u001b[0;32m      1\u001b[0m \u001b[38;5;28;01mfrom\u001b[39;00m \u001b[38;5;21;01mimblearn\u001b[39;00m\u001b[38;5;21;01m.\u001b[39;00m\u001b[38;5;21;01mover_sampling\u001b[39;00m \u001b[38;5;28;01mimport\u001b[39;00m SMOTE\n\u001b[0;32m      3\u001b[0m sm \u001b[38;5;241m=\u001b[39m SMOTE(random_state\u001b[38;5;241m=\u001b[39m\u001b[38;5;241m0\u001b[39m)\n\u001b[1;32m----> 4\u001b[0m X_tr,y_tr \u001b[38;5;241m=\u001b[39m sm\u001b[38;5;241m.\u001b[39mfit_sample(\u001b[43mX_train\u001b[49m,y_train)\n",
      "\u001b[1;31mNameError\u001b[0m: name 'X_train' is not defined"
     ]
    }
   ],
   "source": [
    "from imblearn.over_sampling import SMOTE\n",
    "\n",
    "sm = SMOTE(random_state=0)\n",
    "X_tr,y_tr = sm.fit_sample(X_train,y_train)"
   ]
  },
  {
   "cell_type": "code",
   "execution_count": null,
   "id": "76ac5301",
   "metadata": {},
   "outputs": [],
   "source": [
    "print(\"Dimension of X_tr Shape:\", X_tr.shape)\n",
    "print(\"Dimension of y_tr Shape:\", y_tr.shape)\n",
    "\n",
    "print(\"Imbalance in Training dataset:\",(y_tr != 0).sum()/(y_tr == 0).sum())"
   ]
  },
  {
   "cell_type": "code",
   "execution_count": null,
   "id": "b7f1cade",
   "metadata": {},
   "outputs": [],
   "source": [
    "# Model Building\n",
    "# SVM (lets start with linear SVM)\n",
    "\n",
    "X_train, X_test, y_train, y_test = train_test_split(X, y, test_size=0.2, random_state=99)\n",
    "\n",
    "lr = LogisticRegression()\n",
    "\n",
    "lr.svm = SVC(kernel='linear') \n",
    "lr.svm.fit(X_train,y_train)\n",
    "preds = lr.svm.predict(X_test)\n",
    "metrics.accuracy_score(y_test, preds)\n",
    "\n",
    "# linear SVM gave us accuracy of 94% on test data"
   ]
  },
  {
   "cell_type": "code",
   "execution_count": null,
   "id": "db35196d",
   "metadata": {},
   "outputs": [],
   "source": [
    "# RFE for feature reduction\n",
    "\n",
    "\n",
    "lr = LogisticRegression()\n",
    "\n",
    "# RFE  to select 15 most imp features\n",
    "rfe = RFE(lr,n_features_to_select=15)   \n",
    "rfe = rfe.fit(X_tr, y_tr)"
   ]
  },
  {
   "cell_type": "code",
   "execution_count": null,
   "id": "b0c18376",
   "metadata": {},
   "outputs": [],
   "source": [
    "rfe_features = list(df.columns[rfe.support_])\n",
    "print(\"15 RFE features: \", rfe_features)"
   ]
  },
  {
   "cell_type": "code",
   "execution_count": null,
   "id": "16668f85",
   "metadata": {},
   "outputs": [],
   "source": [
    "X_rfe = pd.DataFrame(data=X_tr).iloc[:, rfe.support_]\n",
    "y_rfe = y_tr"
   ]
  },
  {
   "cell_type": "code",
   "execution_count": null,
   "id": "388414ab",
   "metadata": {},
   "outputs": [],
   "source": [
    "#Logisctic Regression model on the seleted columns by RFE\n",
    "\n",
    "lr = LogisticRegression(random_state=1)\n",
    "lr.fit(X_rfe, y_rfe)"
   ]
  },
  {
   "cell_type": "code",
   "execution_count": null,
   "id": "575a1728",
   "metadata": {},
   "outputs": [],
   "source": [
    "X_test_rfe = pd.DataFrame(data=X_test).iloc[:, rfe.support_]\n",
    "\n",
    "y_pred = lr.predict(X_test_rfe)\n",
    "\n",
    "\n",
    "confusion_matrix = confusion_matrix(y_test, y_pred)\n",
    "print(confusion_matrix)\n",
    "print('Accuracy on test:',lr.score(X_test_rfe, y_test))\n",
    "#Accuracy on Test Dataset comes to be 78% (good)"
   ]
  },
  {
   "cell_type": "code",
   "execution_count": null,
   "id": "17eb7586",
   "metadata": {},
   "outputs": [],
   "source": [
    " #Checking classification report on the test dataset\n",
    "\n",
    "print(classification_report(y_test, y_pred))"
   ]
  },
  {
   "cell_type": "code",
   "execution_count": null,
   "id": "a0346978",
   "metadata": {},
   "outputs": [],
   "source": [
    "#Confusion matix shows high false positive rate that is not good, lets try PCA:"
   ]
  },
  {
   "cell_type": "code",
   "execution_count": null,
   "id": "dc6c810c",
   "metadata": {},
   "outputs": [],
   "source": [
    "X_train, X_test, y_train, y_test = train_test_split(X, y, test_size=0.3, train_size=0.7, random_state=1)\n",
    "\n",
    "# Apply SMOTE to correct class imbalance\n",
    "\n",
    "sm = SMOTE(random_state=0)\n",
    "X_tr,y_tr = sm.fit_sample(X_train,y_train)\n",
    "print(X_tr.shape)\n",
    "print(y_tr.shape)"
   ]
  },
  {
   "cell_type": "code",
   "execution_count": null,
   "id": "ec6aef85",
   "metadata": {},
   "outputs": [],
   "source": [
    "from sklearn.decomposition import PCA\n",
    "pca = PCA(random_state=100)\n",
    "\n",
    "#PCA on train data\n",
    "pca.fit(X_tr)"
   ]
  },
  {
   "cell_type": "code",
   "execution_count": null,
   "id": "25a3d83a",
   "metadata": {},
   "outputs": [],
   "source": [
    "X_tr_PCA = pca.fit_transform(X_tr)\n",
    "print(X_tr_PCA.shape)"
   ]
  },
  {
   "cell_type": "code",
   "execution_count": null,
   "id": "788e4654",
   "metadata": {},
   "outputs": [],
   "source": [
    "X_test_PCA = pca.transform(X_test)\n",
    "print(X_test_PCA.shape)"
   ]
  },
  {
   "cell_type": "code",
   "execution_count": null,
   "id": "2a37bd70",
   "metadata": {},
   "outputs": [],
   "source": [
    "lr_PCA = LogisticRegression(C=1e9)\n",
    "lr_PCA.fit(X_tr_PCA, y_tr)"
   ]
  },
  {
   "cell_type": "code",
   "execution_count": null,
   "id": "9eb8e7e4",
   "metadata": {},
   "outputs": [],
   "source": [
    "# making predictions\n",
    "y_pred = lr_PCA.predict(X_test_PCA)"
   ]
  },
  {
   "cell_type": "code",
   "execution_count": null,
   "id": "7ca76341",
   "metadata": {},
   "outputs": [],
   "source": [
    "#array into a dataframe\n",
    "y_pred_df = pd.DataFrame(y_pred)"
   ]
  },
  {
   "cell_type": "code",
   "execution_count": null,
   "id": "038297a4",
   "metadata": {},
   "outputs": [],
   "source": [
    "#Confusion matrix\n",
    "from sklearn.metrics import classification_report, confusion_matrix, accuracy_score\n",
    "print(confusion_matrix(y_test,y_pred))\n",
    "print(\"Accuracy of logistic regression with PCA: \",accuracy_score(y_test,y_pred))\n",
    "#Accuracy - 80%"
   ]
  },
  {
   "cell_type": "code",
   "execution_count": null,
   "id": "c98354e4",
   "metadata": {},
   "outputs": [],
   "source": [
    "col = list(df.columns)\n",
    "df_PCA = pd.DataFrame({'PC-1':pca.components_[0],'PC-2':pca.components_[1], 'PC-3':pca.components_[2],'Feature':col})\n",
    "df_PCA.head(20)"
   ]
  },
  {
   "cell_type": "code",
   "execution_count": null,
   "id": "50b22cd0",
   "metadata": {},
   "outputs": [],
   "source": [
    "pltt = plt.figure(figsize = (10,6))\n",
    "plt.plot(np.cumsum(pca.explained_variance_ratio_))\n",
    "plt.xlabel('principal components')\n",
    "plt.ylabel('explained variance')\n",
    "plt.show()\n",
    "#Variance by PCA"
   ]
  },
  {
   "cell_type": "code",
   "execution_count": null,
   "id": "939f1d64",
   "metadata": {},
   "outputs": [],
   "source": [
    "np.cumsum(np.round(pca.explained_variance_ratio_, decimals=5)*100)\n",
    "#27 cols with 90% variance"
   ]
  },
  {
   "cell_type": "code",
   "execution_count": null,
   "id": "00171d35",
   "metadata": {},
   "outputs": [],
   "source": [
    "# PCA with 27 components\n",
    "#pca_27 = PCA(n_components=27)\n",
    "\n",
    "#df_tr_pca_27 = pca_27.fit_transform(X_tr)\n",
    "#print(df_tr_pca_27.shape)\n",
    "\n",
    "#df_test_pca_27 = pca_27.transform(X_test)\n",
    "#print(df_test_pca_27.shape)"
   ]
  },
  {
   "cell_type": "code",
   "execution_count": null,
   "id": "460138cc",
   "metadata": {},
   "outputs": [],
   "source": [
    "# Running the model using the selected variables\n",
    "#from sklearn.linear_model import LogisticRegression\n",
    "#from sklearn import metrics\n",
    "#lr_pca1 = LogisticRegression(C=1e9)\n",
    "#lr_pca1.fit(df_tr_pca_27, y_tr)\n",
    "\n",
    "# Predicted probabilities\n",
    "#y_pred27 = lr_pca1.predict(df_test_pca_27)\n",
    "\n",
    "# Converting y_pred to a dataframe which is an array\n",
    "#df_y_pred = pd.DataFrame(y_pred27)\n",
    "\n",
    "#print(\"Accuracy 27 PCA: \",accuracy_score(y_test,y_pred27))"
   ]
  },
  {
   "cell_type": "code",
   "execution_count": null,
   "id": "db5d060d",
   "metadata": {},
   "outputs": [],
   "source": [
    "#print(confusion_matrix(y_test,y_pred27))\n",
    "\n",
    "\n",
    "\n",
    "#Model has 80% Accuracy 27 features can explain 90% variance in the dataset.\n",
    "#Imp features: arpu_8,onnet_mou_8,offnet_mou_8,roam_ic_mou_8."
   ]
  },
  {
   "cell_type": "code",
   "execution_count": null,
   "id": "3dcdbac0",
   "metadata": {},
   "outputs": [],
   "source": [
    "#Decision Tree\n",
    "# lets create a decision tree now\n",
    "X_train, X_test, y_train, y_test = train_test_split(X, y, test_size=0.3, train_size=0.7, random_state=1)\n",
    "\n",
    "# apply SMOTE to tackle class imbalance\n",
    "from imblearn.over_sampling import SMOTE\n",
    "sm = SMOTE(random_state=0)\n",
    "X_tr,y_tr = sm.fit_sample(X_train,y_train)\n",
    "print(X_tr.shape)\n",
    "print(y_tr.shape)"
   ]
  },
  {
   "cell_type": "code",
   "execution_count": null,
   "id": "56fc1fc6",
   "metadata": {},
   "outputs": [],
   "source": [
    "# feature selection using lasso\n",
    "from sklearn.svm import LinearSVC\n",
    "from sklearn.feature_selection import SelectFromModel\n",
    " \n",
    "svc = LinearSVC(C=0.001, penalty=\"l1\", dual=False).fit(X_tr, y_tr)\n",
    "svc_model = SelectFromModel(svc, prefit=True)\n",
    "X_lasso = svc_model.transform(X_tr)\n",
    "position = svc_model.get_support(indices=True)\n",
    "\n",
    "print(X_lasso.shape)\n",
    "print(position)"
   ]
  },
  {
   "cell_type": "code",
   "execution_count": null,
   "id": "a712eea4",
   "metadata": {},
   "outputs": [],
   "source": [
    "lasso_features = list(df.columns[position])\n",
    "print(\"Lasso Features: \", lasso_features)"
   ]
  },
  {
   "cell_type": "code",
   "execution_count": null,
   "id": "9a4815cc",
   "metadata": {},
   "outputs": [],
   "source": [
    "# Decision tree libraries\n",
    "from sklearn.tree import DecisionTreeClassifier\n",
    "from sklearn import tree\n",
    "\n",
    "# Create a decision tree with the default hyper parameter\n",
    "dt1 = DecisionTreeClassifier(max_depth=5)\n",
    "dt1.fit(X_lasso, y_tr)"
   ]
  },
  {
   "cell_type": "code",
   "execution_count": null,
   "id": "6c5f13ee",
   "metadata": {},
   "outputs": [],
   "source": [
    "# Model predictions\n",
    "X_test = pd.DataFrame(data=X_test).iloc[:, position]\n",
    "y_pred1 = dt1.predict(X_test)\n",
    "\n",
    "# Classification report\n",
    "print(classification_report(y_test, y_pred1))"
   ]
  },
  {
   "cell_type": "code",
   "execution_count": null,
   "id": "06815239",
   "metadata": {},
   "outputs": [],
   "source": [
    "# Confusion matrix\n",
    "print(confusion_matrix(y_test,y_pred1))\n",
    "# accuracy of Decision tree\n",
    "print('Decision Tree - Accuracy :',accuracy_score(y_test,y_pred1))\n",
    "#Decision Tree accuracy: 85%"
   ]
  },
  {
   "cell_type": "code",
   "execution_count": null,
   "id": "7ac699d4",
   "metadata": {},
   "outputs": [],
   "source": [
    "#Fine tune hyperparameters\n",
    "# GridSearchCV to find optimal max_depth\n",
    "\n",
    "n_folds = 5\n",
    "\n",
    "# parameters to build the model on\n",
    "parameters = {'max_depth': range(1, 40)}"
   ]
  },
  {
   "cell_type": "code",
   "execution_count": null,
   "id": "77dd7ac6",
   "metadata": {},
   "outputs": [],
   "source": [
    "# Instantiate the model\n",
    "dtree = DecisionTreeClassifier(criterion = \"gini\", \n",
    "                               random_state = 100)\n",
    "                               \n",
    "# Fit tree \n",
    "tree = GridSearchCV(dtree, parameters, \n",
    "                    cv=n_folds, \n",
    "                   scoring=\"accuracy\",\n",
    "                   return_train_score=True)\n",
    "tree.fit(X_lasso, y_tr)"
   ]
  },
  {
   "cell_type": "code",
   "execution_count": null,
   "id": "34fe6508",
   "metadata": {},
   "outputs": [],
   "source": [
    "Scr = tree.cv_results_\n",
    "pd.DataFrame(Scr).head(10)"
   ]
  },
  {
   "cell_type": "code",
   "execution_count": null,
   "id": "50cec343",
   "metadata": {},
   "outputs": [],
   "source": [
    "plt.figure()\n",
    "plt.plot(Scr[\"param_max_depth\"], \n",
    "         Scr[\"mean_train_score\"], \n",
    "         label=\"training accuracy\")\n",
    "plt.plot(Scr[\"param_max_depth\"], \n",
    "         Scr[\"mean_test_score\"], \n",
    "         label=\"test accuracy\")\n",
    "plt.xlabel(\"max_depth\")\n",
    "plt.ylabel(\"Accuracy\")\n",
    "plt.legend()\n",
    "plt.show()"
   ]
  },
  {
   "cell_type": "code",
   "execution_count": null,
   "id": "8f91a602",
   "metadata": {},
   "outputs": [],
   "source": [
    "# max_depth around 10 looks optimal"
   ]
  },
  {
   "cell_type": "code",
   "execution_count": null,
   "id": "87b58c8e",
   "metadata": {},
   "outputs": [],
   "source": [
    "n_folds = 5\n",
    "\n",
    "# parameters to build the model on\n",
    "parameters = {'min_samples_leaf': range(5, 200, 20)}\n",
    "\n",
    "# instantiate the model\n",
    "dtree = DecisionTreeClassifier(criterion = \"gini\", \n",
    "                               random_state = 100)\n",
    "\n",
    "# fit tree on training data\n",
    "tree = GridSearchCV(dtree, parameters, \n",
    "                    cv=n_folds, \n",
    "                   scoring=\"accuracy\",\n",
    "                   return_train_score=True)\n",
    "tree.fit(X_lasso, y_tr)"
   ]
  },
  {
   "cell_type": "code",
   "execution_count": null,
   "id": "ded47dba",
   "metadata": {},
   "outputs": [],
   "source": [
    "score = tree.cv_results_\n",
    "pd.DataFrame(score).head()"
   ]
  },
  {
   "cell_type": "code",
   "execution_count": null,
   "id": "faf12110",
   "metadata": {},
   "outputs": [],
   "source": [
    "# plotting accuracies with min_sample_leaf\n",
    "plt.figure()\n",
    "plt.plot(score[\"param_min_samples_leaf\"], \n",
    "         score[\"mean_train_score\"], \n",
    "         label=\"training accuracy\")\n",
    "plt.plot(score[\"param_min_samples_leaf\"], \n",
    "         score[\"mean_test_score\"], \n",
    "         label=\"test accuracy\")\n",
    "plt.xlabel(\"min_sample_leaf\")\n",
    "plt.ylabel(\"Accuracy\")\n",
    "plt.legend()\n",
    "plt.show()\n",
    "# min_sample_leaf =25 is optimal"
   ]
  },
  {
   "cell_type": "code",
   "execution_count": null,
   "id": "b539f7fc",
   "metadata": {},
   "outputs": [],
   "source": [
    "param_grid = {\n",
    "    'max_depth': range(5, 15, 5),\n",
    "    'min_samples_leaf': range(25, 175, 50),\n",
    "    'min_samples_split': range(50, 150, 50),\n",
    "    'criterion': [\"entropy\", \"gini\"]\n",
    "}\n",
    "\n",
    "n_folds = 5\n",
    "dtree = DecisionTreeClassifier()\n",
    "grid_search = GridSearchCV(estimator = dtree, param_grid = param_grid, \n",
    "                          cv = n_folds, verbose = 1)\n",
    "\n",
    "# Fit the grid search to the data\n",
    "grid_search.fit(X_lasso, y_tr)\n",
    "\n",
    "cv_results = pd.DataFrame(grid_search.cv_results_)\n",
    "cv_results\n",
    "# printing the optimal accuracy score and hyperparameters\n",
    "print(\"Best Accuracy\", grid_search.best_score_)\n",
    "print(grid_search.best_estimator_)"
   ]
  },
  {
   "cell_type": "code",
   "execution_count": null,
   "id": "78347743",
   "metadata": {},
   "outputs": [],
   "source": [
    "# model with optimal hyperparameters\n",
    "clf_gini = DecisionTreeClassifier(criterion = \"gini\", \n",
    "                                  random_state = 100,\n",
    "                                  max_depth=5, \n",
    "                                  min_samples_leaf=25)\n",
    "clf_gini.fit(X_lasso, y_tr)"
   ]
  },
  {
   "cell_type": "code",
   "execution_count": null,
   "id": "b01b5506",
   "metadata": {},
   "outputs": [],
   "source": [
    "print ('Accuracy Score for Decision Tree :',clf_gini.score(X_test,y_test))\n",
    "# 85% accuracy on the test dataset\n",
    "# lots of false positives in the confusion matrix"
   ]
  },
  {
   "cell_type": "code",
   "execution_count": null,
   "id": "386f7c4d",
   "metadata": {},
   "outputs": [],
   "source": [
    "#Random Forest\n",
    "\n",
    "model_rf = RandomForestClassifier()\n",
    "model_rf.fit(X_lasso, y_tr)\n",
    "\n",
    "# Make predictions\n",
    "prediction_test = model_rf.predict(X_test)\n",
    "print ('Randon Forest',metrics.accuracy_score(y_test, prediction_test))"
   ]
  },
  {
   "cell_type": "code",
   "execution_count": null,
   "id": "b83e16e0",
   "metadata": {},
   "outputs": [],
   "source": [
    "print(classification_report(y_test,prediction_test))\n",
    "# Printing confusion matrix\n",
    "print(confusion_matrix(y_test, prediction_test))"
   ]
  },
  {
   "cell_type": "code",
   "execution_count": null,
   "id": "972c8a69",
   "metadata": {},
   "outputs": [],
   "source": [
    "# GridSearchCV to find optimal n_estimators\n",
    "\n",
    "# Number of folds for k-fold CV\n",
    "n_folds = 5\n",
    "\n",
    "# Parameters to build the model on\n",
    "parameters = {'max_depth': range(2, 20, 5)}\n",
    "\n",
    "# Instantiate the model\n",
    "rf = RandomForestClassifier()\n",
    "\n",
    "# fit tree on training set\n",
    "rf = GridSearchCV(rf, parameters, \n",
    "                    cv=n_folds, \n",
    "                   scoring=\"accuracy\",\n",
    "                  return_train_score=True)\n",
    "rf.fit(X_lasso, y_tr)"
   ]
  },
  {
   "cell_type": "code",
   "execution_count": null,
   "id": "5fcf8a51",
   "metadata": {},
   "outputs": [],
   "source": [
    "scores = rf.cv_results_\n",
    "pd.DataFrame(scores).head()"
   ]
  },
  {
   "cell_type": "code",
   "execution_count": null,
   "id": "ca9bc1df",
   "metadata": {},
   "outputs": [],
   "source": [
    "# plotting accuracies with max_depth\n",
    "plt.figure()\n",
    "plt.plot(scores[\"param_max_depth\"], \n",
    "         scores[\"mean_train_score\"], \n",
    "         label=\"training accuracy\")\n",
    "plt.plot(scores[\"param_max_depth\"], \n",
    "         scores[\"mean_test_score\"], \n",
    "         label=\"test accuracy\")\n",
    "plt.xlabel(\"max_depth\")\n",
    "plt.ylabel(\"Accuracy\")\n",
    "plt.legend()\n",
    "plt.show()"
   ]
  },
  {
   "cell_type": "code",
   "execution_count": null,
   "id": "50bc6424",
   "metadata": {},
   "outputs": [],
   "source": [
    "n_folds = 5\n",
    "\n",
    "parameters = {'n_estimators': range(100, 1500, 400)}\n",
    "\n",
    "rf = RandomForestClassifier(max_depth=4)\n",
    "\n",
    "rf = GridSearchCV(rf, parameters, \n",
    "                    cv=n_folds, \n",
    "                   scoring=\"accuracy\",\n",
    "                  return_train_score=True)\n",
    "rf.fit(X_lasso, y_tr)\n"
   ]
  },
  {
   "cell_type": "code",
   "execution_count": null,
   "id": "0ee2ca13",
   "metadata": {},
   "outputs": [],
   "source": [
    "#Scores\n",
    "scores = rf.cv_results_\n",
    "#\n",
    "## plotting accuracies with n_estimators\n",
    "plt.figure()\n",
    "plt.plot(scores[\"param_n_estimators\"], \n",
    "         scores[\"mean_train_score\"], \n",
    "         label=\"training accuracy\")\n",
    "plt.plot(scores[\"param_n_estimators\"], \n",
    "         scores[\"mean_test_score\"], \n",
    "         label=\"test accuracy\")\n",
    "plt.xlabel(\"n_estimators\")\n",
    "plt.ylabel(\"Accuracy\")\n",
    "plt.legend()\n",
    "plt.show()"
   ]
  },
  {
   "cell_type": "code",
   "execution_count": null,
   "id": "d7c6e508",
   "metadata": {},
   "outputs": [],
   "source": [
    "# GridSearchCV to find optimal min_samples_leaf\n",
    "\n",
    "n_folds = 5\n",
    "parameters = {'min_samples_leaf': range(50, 400, 10)}\n",
    "rf = RandomForestClassifier()\n",
    "rf = GridSearchCV(rf, parameters, \n",
    "                    cv=n_folds, \n",
    "                   scoring=\"accuracy\",\n",
    "                  return_train_score=True)\n",
    "rf.fit(X_lasso, y_tr)"
   ]
  },
  {
   "cell_type": "code",
   "execution_count": null,
   "id": "0531d2c4",
   "metadata": {},
   "outputs": [],
   "source": [
    "scores = rf.cv_results_\n",
    "\n",
    "# plotting accuracies with min_samples_leaf\n",
    "plt.figure()\n",
    "plt.plot(scores[\"param_min_samples_leaf\"], \n",
    "         scores[\"mean_train_score\"], \n",
    "         label=\"training accuracy\")\n",
    "plt.plot(scores[\"param_min_samples_leaf\"], \n",
    "         scores[\"mean_test_score\"], \n",
    "         label=\"test accuracy\")\n",
    "plt.xlabel(\"min_samples_leaf\")\n",
    "plt.ylabel(\"Accuracy\")\n",
    "plt.legend()\n",
    "plt.show()"
   ]
  },
  {
   "cell_type": "code",
   "execution_count": null,
   "id": "87619e33",
   "metadata": {},
   "outputs": [],
   "source": [
    "#min_samples_split\n",
    "n_folds = 5\n",
    "parameters = {'min_samples_split': range(100, 500, 25)}\n",
    "rf = RandomForestClassifier()\n",
    "rf = GridSearchCV(rf, parameters, \n",
    "                    cv=n_folds, \n",
    "                   scoring=\"accuracy\",\n",
    "                   return_train_score=True)\n",
    "rf.fit(X_lasso, y_tr)"
   ]
  },
  {
   "cell_type": "code",
   "execution_count": null,
   "id": "2cb6b6e2",
   "metadata": {},
   "outputs": [],
   "source": [
    "scores = rf.cv_results_\n",
    "\n",
    "# plotting accuracies with min_samples_split\n",
    "plt.figure()\n",
    "plt.plot(scores[\"param_min_samples_split\"], \n",
    "         scores[\"mean_train_score\"], \n",
    "         label=\"training accuracy\")\n",
    "plt.plot(scores[\"param_min_samples_split\"], \n",
    "         scores[\"mean_test_score\"], \n",
    "         label=\"test accuracy\")\n",
    "plt.xlabel(\"min_samples_split\")\n",
    "plt.ylabel(\"Accuracy\")\n",
    "plt.legend()\n",
    "plt.show()"
   ]
  },
  {
   "cell_type": "code",
   "execution_count": null,
   "id": "2c379ede",
   "metadata": {},
   "outputs": [],
   "source": [
    "#Parameter grid based on the results of random search \n",
    "param_grid = {\n",
    "    'max_depth': [4,8,10],\n",
    "    'min_samples_leaf': range(100, 300, 100),\n",
    "    'min_samples_split': range(200, 500, 100),\n",
    "    'n_estimators': [500,700], \n",
    "    'max_features': [10,20,25]\n",
    "}\n",
    "rf = RandomForestClassifier()\n",
    "grid_search = GridSearchCV(estimator = rf, param_grid = param_grid, \n",
    "                          cv = 3, n_jobs = -1,verbose = 1)"
   ]
  },
  {
   "cell_type": "code",
   "execution_count": null,
   "id": "71f16fd2",
   "metadata": {},
   "outputs": [],
   "source": [
    "grid_search.fit(X_lasso, y_tr)\n",
    "# optimal accuracy score and hyperparameters\n",
    "print('Accuracy:',grid_search.best_score_,'by',grid_search.best_params_)"
   ]
  },
  {
   "cell_type": "code",
   "execution_count": null,
   "id": "f768e9c2",
   "metadata": {},
   "outputs": [],
   "source": [
    "\n",
    "X_train, X_test, y_train, y_test = train_test_split(X, y, test_size=0.2, random_state=101)\n",
    "\n",
    "model_rf = RandomForestClassifier(bootstrap=True,\n",
    "                                  max_depth=10,\n",
    "                                  min_samples_leaf=100, \n",
    "                                  min_samples_split=200,\n",
    "                                  n_estimators=1000 ,\n",
    "                                  oob_score = True, n_jobs = -1,\n",
    "                                  random_state =50,\n",
    "                                  max_features = 15,\n",
    "                                  max_leaf_nodes = 30)\n",
    "model_rf.fit(X_train, y_train)\n",
    "\n",
    "# Make predictions\n",
    "prediction_test = model_rf.predict(X_test)"
   ]
  },
  {
   "cell_type": "code",
   "execution_count": null,
   "id": "ded86ba6",
   "metadata": {},
   "outputs": [],
   "source": [
    "from sklearn.metrics import classification_report,confusion_matrix\n",
    "print(classification_report(y_test,prediction_test))\n",
    "print(confusion_matrix(y_test,prediction_test))"
   ]
  },
  {
   "cell_type": "code",
   "execution_count": null,
   "id": "a9fcbf5a",
   "metadata": {},
   "outputs": [],
   "source": [
    "print ('Accuracy Score for Random Forest Final Model :',metrics.accuracy_score(y_test, prediction_test))\n",
    "#Accuracy Score for Random Forest Final Model : 93%"
   ]
  },
  {
   "cell_type": "code",
   "execution_count": null,
   "id": "91d3bea4",
   "metadata": {},
   "outputs": [],
   "source": [
    "# Important features\n",
    "X = df\n",
    "features = X.columns.values\n",
    "X = pd.DataFrame(scaler.transform(X))\n",
    "X.columns = features\n",
    "\n",
    "importances = model_rf.feature_importances_\n",
    "weights = pd.Series(importances,\n",
    "                 index=X.columns.values)\n",
    "weights.sort_values()[-10:].plot(kind = 'barh')"
   ]
  },
  {
   "cell_type": "code",
   "execution_count": null,
   "id": "c9f31547",
   "metadata": {},
   "outputs": [],
   "source": [
    "#Local Incoming for Month 8, Average Revenue Per Customer for Month 8 are important predictor variables to predict churn.\n",
    "#Max Recharge Amount for Month 8 is also important feature to predict churn.\n"
   ]
  },
  {
   "cell_type": "code",
   "execution_count": null,
   "id": "23ceacec",
   "metadata": {},
   "outputs": [],
   "source": [
    "# Case Study Conclusion :\n",
    "#Std Outgoing Calls and Revenue Per Customer are strong indicators of Churn.\n",
    "#Local Incoming and Outgoing Calls for 8th Month and avg revenue in 8th Month are important columns.\n",
    "#Cutomers with tenure less than 4 yrs are more likely to churn.\n",
    "#As per our analysis SVM and Random forest produce best accuracy and models can be selected to predict churn data for future.\n",
    "#Max Recharge Amount is a strong feature to predict churn."
   ]
  },
  {
   "cell_type": "code",
   "execution_count": null,
   "id": "7d946440",
   "metadata": {},
   "outputs": [],
   "source": []
  },
  {
   "cell_type": "code",
   "execution_count": null,
   "id": "1349e8b3",
   "metadata": {},
   "outputs": [],
   "source": []
  },
  {
   "cell_type": "code",
   "execution_count": null,
   "id": "e0a25f6b",
   "metadata": {},
   "outputs": [],
   "source": []
  },
  {
   "cell_type": "code",
   "execution_count": null,
   "id": "66ab510c",
   "metadata": {},
   "outputs": [],
   "source": []
  },
  {
   "cell_type": "code",
   "execution_count": null,
   "id": "66d522ed",
   "metadata": {},
   "outputs": [],
   "source": []
  },
  {
   "cell_type": "code",
   "execution_count": null,
   "id": "dbe20770",
   "metadata": {},
   "outputs": [],
   "source": []
  },
  {
   "cell_type": "code",
   "execution_count": null,
   "id": "c24a4048",
   "metadata": {},
   "outputs": [],
   "source": []
  },
  {
   "cell_type": "code",
   "execution_count": null,
   "id": "3873d9f7",
   "metadata": {},
   "outputs": [],
   "source": []
  },
  {
   "cell_type": "code",
   "execution_count": null,
   "id": "b6efd562",
   "metadata": {},
   "outputs": [],
   "source": []
  },
  {
   "cell_type": "code",
   "execution_count": null,
   "id": "c6a0d8c5",
   "metadata": {},
   "outputs": [],
   "source": []
  },
  {
   "cell_type": "code",
   "execution_count": null,
   "id": "301ea692",
   "metadata": {},
   "outputs": [],
   "source": []
  },
  {
   "cell_type": "code",
   "execution_count": null,
   "id": "fabb03cc",
   "metadata": {},
   "outputs": [],
   "source": []
  },
  {
   "cell_type": "code",
   "execution_count": null,
   "id": "8ca85e80",
   "metadata": {},
   "outputs": [],
   "source": []
  },
  {
   "cell_type": "code",
   "execution_count": null,
   "id": "b4df260d",
   "metadata": {},
   "outputs": [],
   "source": []
  },
  {
   "cell_type": "code",
   "execution_count": null,
   "id": "26caf2f3",
   "metadata": {},
   "outputs": [],
   "source": []
  },
  {
   "cell_type": "code",
   "execution_count": null,
   "id": "dd56df1f",
   "metadata": {},
   "outputs": [],
   "source": []
  }
 ],
 "metadata": {
  "kernelspec": {
   "display_name": "Python 3 (ipykernel)",
   "language": "python",
   "name": "python3"
  },
  "language_info": {
   "codemirror_mode": {
    "name": "ipython",
    "version": 3
   },
   "file_extension": ".py",
   "mimetype": "text/x-python",
   "name": "python",
   "nbconvert_exporter": "python",
   "pygments_lexer": "ipython3",
   "version": "3.10.9"
  }
 },
 "nbformat": 4,
 "nbformat_minor": 5
}
